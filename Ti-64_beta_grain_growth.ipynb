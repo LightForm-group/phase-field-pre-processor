{
 "cells": [
  {
   "cell_type": "code",
   "execution_count": null,
   "metadata": {},
   "outputs": [],
   "source": [
    "%load_ext autoreload\n",
    "%autoreload 2"
   ]
  },
  {
   "cell_type": "markdown",
   "metadata": {},
   "source": [
    "# Ti-64 beta-phase grain growth phase-field simulations"
   ]
  },
  {
   "cell_type": "markdown",
   "metadata": {},
   "source": [
    "This notebook invokes code to set up a grain-growth CIPHER simulation for a Ti-64 beta-phase material."
   ]
  },
  {
   "cell_type": "code",
   "execution_count": null,
   "metadata": {},
   "outputs": [],
   "source": [
    "from cipher_input import CIPHERInput, InterfaceDefinition\n",
    "\n",
    "import plotly.express as px"
   ]
  },
  {
   "cell_type": "code",
   "execution_count": null,
   "metadata": {},
   "outputs": [],
   "source": [
    "inp = CIPHERInput.from_random_voronoi(\n",
    "    num_phases=50,\n",
    "    grid_size=[64, 64, 64],\n",
    "    size=[64, 64, 64],\n",
    "    materials={\n",
    "        \"Ti-beta\": {\n",
    "            \"chemicalenergy\": \"none\",\n",
    "            \"molarvolume\": 1e-5,\n",
    "            \"temperature0\": 500.0,\n",
    "        },\n",
    "    },\n",
    "    interfaces=[\n",
    "        InterfaceDefinition(\n",
    "            materials=('Ti-beta', 'Ti-beta'),\n",
    "            properties={\n",
    "                \"energy\": {\"e0\": 5.0e+8},\n",
    "                \"mobility\": {\"m0\": 1.0e-11},\n",
    "            }\n",
    "        )\n",
    "    ],\n",
    "    volume_fractions=[1.0],\n",
    "    components=[\"ti\"],\n",
    "    outputs=[\"phaseid\", \"matid\", \"interfaceid\"],\n",
    "    solution_parameters = {\n",
    "        \"time\": 100000000,\n",
    "        \"interfacewidth\": 4,\n",
    "        \"initblocksize\": [1, 1, 1],\n",
    "        \"initrefine\": 6,\n",
    "        \"minnrefine\": 0,\n",
    "        \"maxnrefine\": 6,\n",
    "        \"initcoarsen\": 6,\n",
    "        \"amrinterval\": 25,\n",
    "        \"outputfreq\": 100,\n",
    "        \"outfile\": \"ti64-beta-gg\",\n",
    "        \"interpolation\": \"cubic\",\n",
    "        \"reltol\": 1e-4,\n",
    "        \"abstol\": 1e-4,\n",
    "        \"petscoptions\": \"-ts_adapt_monitor -ts_rk_type 2a\",\n",
    "        \"random_seed\": 1579993586,\n",
    "    }\n",
    ")"
   ]
  },
  {
   "cell_type": "code",
   "execution_count": null,
   "metadata": {},
   "outputs": [],
   "source": [
    "px.imshow(inp.geometry.voxel_phase[0])"
   ]
  },
  {
   "cell_type": "code",
   "execution_count": null,
   "metadata": {},
   "outputs": [],
   "source": [
    "inp.geometry.show()"
   ]
  },
  {
   "cell_type": "code",
   "execution_count": null,
   "metadata": {},
   "outputs": [],
   "source": [
    "inp.write_yaml('ti64-beta-gg.yaml')"
   ]
  },
  {
   "cell_type": "code",
   "execution_count": null,
   "metadata": {},
   "outputs": [],
   "source": []
  }
 ],
 "metadata": {
  "interpreter": {
   "hash": "7c07dc62041a117a8733fa62182a1d684b0bad148f520b8b987e68f55a0fe72a"
  },
  "kernelspec": {
   "display_name": "Python 3.7.4 ('.venv': venv)",
   "language": "python",
   "name": "python3"
  },
  "language_info": {
   "codemirror_mode": {
    "name": "ipython",
    "version": 3
   },
   "file_extension": ".py",
   "mimetype": "text/x-python",
   "name": "python",
   "nbconvert_exporter": "python",
   "pygments_lexer": "ipython3",
   "version": "3.7.4"
  },
  "orig_nbformat": 4
 },
 "nbformat": 4,
 "nbformat_minor": 2
}
