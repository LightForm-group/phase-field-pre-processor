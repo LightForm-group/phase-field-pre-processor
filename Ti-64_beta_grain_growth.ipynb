{
 "cells": [
  {
   "cell_type": "code",
   "execution_count": null,
   "metadata": {},
   "outputs": [],
   "source": [
    "%load_ext autoreload\n",
    "%autoreload 2"
   ]
  },
  {
   "cell_type": "markdown",
   "metadata": {},
   "source": [
    "# Ti-64 beta-phase grain growth phase-field simulations"
   ]
  },
  {
   "cell_type": "markdown",
   "metadata": {},
   "source": [
    "This notebook invokes code to set up a grain-growth CIPHER simulation for a Ti-64 beta-phase material."
   ]
  },
  {
   "cell_type": "code",
   "execution_count": null,
   "metadata": {},
   "outputs": [],
   "source": [
    "import plotly.express as px\n",
    "import numpy as np\n",
    "\n",
    "from cipher_input import (\n",
    "    CIPHERInput,\n",
    "    MaterialDefinition,\n",
    "    PhaseTypeDefinition,\n",
    "    InterfaceDefinition,\n",
    ")\n",
    "from utilities import read_shockley"
   ]
  },
  {
   "cell_type": "markdown",
   "metadata": {},
   "source": [
    "### Assigning GB energies according to a random texture and simple misorientation-GB-energy relation"
   ]
  },
  {
   "cell_type": "code",
   "execution_count": null,
   "metadata": {},
   "outputs": [],
   "source": [
    "RS_params = {\n",
    "    'E_max': 1.2,\n",
    "    'theta_max': 50,\n",
    "    'degrees': True,\n",
    "}\n",
    "theta_deg = np.linspace(0, 100)\n",
    "energy = read_shockley(theta_deg, **RS_params)\n",
    "fig = px.line(\n",
    "    x=theta_deg,\n",
    "    y=energy,\n",
    "    labels={\"x\": \"Misorientation angle /deg.\", \"y\": \"GB energy / Jm^-2\"},\n",
    "    title='Read-Shockley relationship for LAGBs',\n",
    "    width=600,\n",
    ")\n",
    "fig"
   ]
  },
  {
   "cell_type": "code",
   "execution_count": null,
   "metadata": {},
   "outputs": [],
   "source": [
    "# Define the material properties:\n",
    "materials = [    \n",
    "    MaterialDefinition(\n",
    "        name=\"Ti-beta\",\n",
    "        phase_types=[\n",
    "            PhaseTypeDefinition(type_label='sub-grain-matrix'),\n",
    "            PhaseTypeDefinition(type_label='nuclei'),\n",
    "        ],\n",
    "        properties={\n",
    "            \"chemicalenergy\": \"none\",\n",
    "            \"molarvolume\": 1e-5,\n",
    "            \"temperature0\": 500.0,\n",
    "        },\n",
    "    ),\n",
    "]\n",
    "\n",
    "# Define the interfaces:\n",
    "interfaces = [\n",
    "    InterfaceDefinition(\n",
    "        phase_types=(\"Ti-beta-sub-grain-matrix\", \"Ti-beta-sub-grain-matrix\"),\n",
    "        properties={\n",
    "            \"energy\": {\"e0\": 5.0e+8},\n",
    "            \"mobility\": {\"m0\": 1.0e-11},\n",
    "        },\n",
    "    ),\n",
    "    InterfaceDefinition(\n",
    "        phase_types=(\"Ti-beta-sub-grain-matrix\", \"Ti-beta-nuclei\"),\n",
    "        properties={\n",
    "            \"energy\": {\"e0\": 5.0e+8},\n",
    "            \"mobility\": {\"m0\": 1.0e-11},\n",
    "        },\n",
    "    ),\n",
    "    InterfaceDefinition(\n",
    "        phase_types=(\"Ti-beta-nuclei\", \"Ti-beta-nuclei\"),\n",
    "        properties={\n",
    "            \"energy\": {\"e0\": 5.0e+8},\n",
    "            \"mobility\": {\"m0\": 1.0e-11},\n",
    "        },\n",
    "    ),\n",
    "]\n",
    "\n",
    "# We also need provide a `phase_type_map` to state which Dream3D phases correspond to which\n",
    "# CIPHER phase types:\n",
    "inp = CIPHERInput.from_dream3D(\n",
    "    path=\"example_data/dream3d/beta-grain-growth/synthetic_d3d.dream3d\",\n",
    "    materials=materials,\n",
    "    interfaces=interfaces,\n",
    "    components=[\"ti\"],\n",
    "    outputs=[\"phaseid\", \"matid\", \"interfaceid\"],\n",
    "    solution_parameters={\n",
    "        'abstol': 0.0001,\n",
    "        'amrinterval': 25,\n",
    "        'initblocksize': [1, 1, 1],\n",
    "        'initcoarsen': 6,\n",
    "        'initrefine': 7,\n",
    "        'interfacewidth': 4,\n",
    "        'interpolation': 'cubic',\n",
    "        'maxnrefine': 7,\n",
    "        'minnrefine': 0,\n",
    "        'outfile': 'out',\n",
    "        'outputfreq': 100,\n",
    "        'petscoptions': '-ts_adapt_monitor -ts_rk_type 2a',\n",
    "        'random_seed': 1579993586,\n",
    "        'reltol': 0.0001,\n",
    "        'time': 100000000,\n",
    "    },\n",
    "    phase_type_map={\n",
    "        'Sub-grain matrix': 'Ti-beta-sub-grain-matrix',\n",
    "        'Nuclei': 'Ti-beta-nuclei',\n",
    "    }\n",
    ")"
   ]
  },
  {
   "cell_type": "code",
   "execution_count": null,
   "metadata": {},
   "outputs": [],
   "source": [
    "viz_slice_idx = 10\n",
    "px.imshow(inp.geometry.voxel_phase[viz_slice_idx])"
   ]
  },
  {
   "cell_type": "code",
   "execution_count": null,
   "metadata": {},
   "outputs": [],
   "source": [
    "inp.geometry.phase_orientation"
   ]
  },
  {
   "cell_type": "code",
   "execution_count": null,
   "metadata": {},
   "outputs": [],
   "source": [
    "px.imshow(inp.geometry.voxel_material[viz_slice_idx])"
   ]
  },
  {
   "cell_type": "code",
   "execution_count": null,
   "metadata": {},
   "outputs": [],
   "source": [
    "px.imshow(inp.geometry.voxel_phase_type[viz_slice_idx])"
   ]
  },
  {
   "cell_type": "code",
   "execution_count": null,
   "metadata": {},
   "outputs": [],
   "source": [
    "misori = inp.geometry.get_misorientation_matrix(degrees=True)\n",
    "px.imshow(misori)"
   ]
  },
  {
   "cell_type": "code",
   "execution_count": null,
   "metadata": {},
   "outputs": [],
   "source": [
    "E_GB = read_shockley(misori, **RS_params)\n",
    "px.imshow(E_GB)"
   ]
  },
  {
   "cell_type": "code",
   "execution_count": null,
   "metadata": {},
   "outputs": [],
   "source": [
    "# show misorientation/GB-energies on Read-Shockley plot:\n",
    "fig = px.line(\n",
    "    x=theta_deg,\n",
    "    y=energy,\n",
    "    labels={\"x\": \"Misorientation angle /deg.\", \"y\": \"GB energy / Jm^-2\"},\n",
    "    title='Read-Shockley relationship for LAGBs',\n",
    "    width=600,\n",
    ")\n",
    "misori_sample = misori.flatten()\n",
    "E_GB_sample = E_GB.flatten()\n",
    "if inp.geometry.num_phases > 20:\n",
    "    sample_idx = np.random.choice(misori_sample.size, size=400, replace=False)\n",
    "    misori_sample = misori_sample[sample_idx]\n",
    "    E_GB_sample = E_GB_sample[sample_idx]\n",
    "\n",
    "fig.add_scatter(x=misori_sample, y=E_GB_sample, mode='markers')\n",
    "fig"
   ]
  },
  {
   "cell_type": "code",
   "execution_count": null,
   "metadata": {},
   "outputs": [],
   "source": [
    "for i in inp.interface_names:\n",
    "    print(f'\\nInterface: {i}')\n",
    "    inp.apply_interface_property(\n",
    "        base_interface_name=i,\n",
    "        property_name=('energy', 'e0'),\n",
    "        property_values=E_GB * 1e9,\n",
    "        additional_metadata={'misorientation': misori},\n",
    "        bin_edges=np.linspace(0, RS_params['E_max'] * 1e8, num=10),\n",
    "    )"
   ]
  },
  {
   "cell_type": "code",
   "execution_count": null,
   "metadata": {},
   "outputs": [],
   "source": [
    "inp.interface_names"
   ]
  },
  {
   "cell_type": "code",
   "execution_count": null,
   "metadata": {},
   "outputs": [],
   "source": [
    "inp.write_yaml('ti64-beta-gg.yaml')"
   ]
  },
  {
   "cell_type": "code",
   "execution_count": null,
   "metadata": {},
   "outputs": [],
   "source": [
    "px.imshow(inp.geometry.get_interface_idx()[viz_slice_idx])"
   ]
  },
  {
   "cell_type": "code",
   "execution_count": null,
   "metadata": {},
   "outputs": [],
   "source": [
    "inp.geometry.show()"
   ]
  },
  {
   "cell_type": "code",
   "execution_count": null,
   "metadata": {},
   "outputs": [],
   "source": []
  }
 ],
 "metadata": {
  "interpreter": {
   "hash": "e950b018d77b1cd180a23962e364f57414cbe5849eb7fa189272357d6dd92eac"
  },
  "kernelspec": {
   "display_name": "Python 3.7.4 ('phase_field_pre_processor_venv_py37')",
   "language": "python",
   "name": "python3"
  },
  "language_info": {
   "codemirror_mode": {
    "name": "ipython",
    "version": 3
   },
   "file_extension": ".py",
   "mimetype": "text/x-python",
   "name": "python",
   "nbconvert_exporter": "python",
   "pygments_lexer": "ipython3",
   "version": "3.7.4"
  },
  "orig_nbformat": 4
 },
 "nbformat": 4,
 "nbformat_minor": 2
}
