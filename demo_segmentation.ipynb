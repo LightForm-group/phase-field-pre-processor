{
 "cells": [
  {
   "cell_type": "markdown",
   "metadata": {},
   "source": [
    "## Phase-field pre-processor\n",
    "\n",
    "This notebooks demonstrates how to use the code to:\n",
    "- Associate a MatFlow DAMASK workflow with a phase-field pre-processor\n",
    "- Select a slice of the volume-element for grain clustering\n",
    "- Perform the grain clustering for the specified slice using MTEX, and save a grain ID map with the clusterer data\n",
    "- Generate a set of seed points across the clustered grain map that are distributed according to the estimated dislocation density\n",
    "- Perform a Voronoi tessellation on the seed points to generate a sub-grain map\n",
    "- Generate a CIPHER input file using the sub-grain map\n",
    "\n",
    "*Note*: this code is known to work with these software versions (but probably works with other versions too):\n",
    " - Python 3.7\n",
    " - Matlab R2020a\n",
    " - MTEX 5.7.0"
   ]
  },
  {
   "cell_type": "code",
   "execution_count": null,
   "metadata": {},
   "outputs": [],
   "source": [
    "%load_ext autoreload\n",
    "%autoreload 2"
   ]
  },
  {
   "cell_type": "code",
   "execution_count": null,
   "metadata": {},
   "outputs": [],
   "source": [
    "import plotly.express as px\n",
    "\n",
    "from clustering import PhaseFieldModelPreProcessor"
   ]
  },
  {
   "cell_type": "markdown",
   "metadata": {},
   "source": [
    "### Setting up the `PhaseFieldModelPreProcessor`\n",
    "\n",
    "We generate a new `PhaseFieldModelPreProcessor` object that is associated with our MatFlow DAMASK simulation. This will generate a `segmentation` sub-directory within the workflow directory."
   ]
  },
  {
   "cell_type": "code",
   "execution_count": null,
   "metadata": {},
   "outputs": [],
   "source": [
    "wk_path = '/path/to/matflow/workflow'\n",
    "pre_proc = PhaseFieldModelPreProcessor(workflow_dir=wk_path)"
   ]
  },
  {
   "cell_type": "markdown",
   "metadata": {},
   "source": [
    "### Setting up the `Clusterer`\n",
    "\n",
    "Each MatFlow DAMASK simulation can be associated with multiple `Clusterer` objects, which correspond to the selection of a given slice through the volume element, and with clustering parameters:"
   ]
  },
  {
   "cell_type": "code",
   "execution_count": null,
   "metadata": {},
   "outputs": [],
   "source": [
    "# Slice selection and clustering parametrisation:\n",
    "clusterer_args = {\n",
    "    'element_idx': 0,\n",
    "    'slice_selection': {\n",
    "        'increment_idx': -1,\n",
    "        'is_periodic': True,\n",
    "        'x': None,\n",
    "        'y': 0,\n",
    "        'z': None,\n",
    "        'eye': '+y',\n",
    "        'up': '+z',\n",
    "    },\n",
    "    'method': 'MTEX-FMC', # fast-multiscale clustering, using MTEX\n",
    "    'parameters': {\n",
    "        'C_Maha': 2.0,\n",
    "        'smoothing': 16,\n",
    "    },\n",
    "}\n",
    "\n",
    "clst = pre_proc.get_clusterer(**clusterer_args)"
   ]
  },
  {
   "cell_type": "markdown",
   "metadata": {},
   "source": [
    "### Running the segmentation"
   ]
  },
  {
   "cell_type": "markdown",
   "metadata": {},
   "source": [
    "This may take a while, depending on the RVE resolution. At the end, we save a pickle file with the results, which can later be reloaded to avoid repeating the segmentation process (see below)."
   ]
  },
  {
   "cell_type": "code",
   "execution_count": null,
   "metadata": {},
   "outputs": [],
   "source": [
    "clst.do_segmentation() # also does post-processing and saves results"
   ]
  },
  {
   "cell_type": "markdown",
   "metadata": {},
   "source": [
    "### Loading a previous segmentation"
   ]
  },
  {
   "cell_type": "markdown",
   "metadata": {},
   "source": [
    "We can load the previous segmentation results, so the `do_segmentation` does not need to be repeated:"
   ]
  },
  {
   "cell_type": "code",
   "execution_count": null,
   "metadata": {},
   "outputs": [],
   "source": [
    "clst.load()"
   ]
  },
  {
   "cell_type": "code",
   "execution_count": null,
   "metadata": {},
   "outputs": [],
   "source": [
    "clst.show_field_data('phase')"
   ]
  },
  {
   "cell_type": "code",
   "execution_count": null,
   "metadata": {},
   "outputs": [],
   "source": [
    "px.imshow(clst.grain_IDs)"
   ]
  },
  {
   "cell_type": "code",
   "execution_count": null,
   "metadata": {},
   "outputs": [],
   "source": [
    "clst.show_estimated_dislocation_density()"
   ]
  },
  {
   "cell_type": "code",
   "execution_count": null,
   "metadata": {},
   "outputs": [],
   "source": [
    "clst.set_seed_points(\n",
    "    method='dislocation_density',\n",
    "    pixel_length=0.4e-6,    \n",
    "    redo=True, # set seed points again, even if already set\n",
    "    random_seed=413402, # use the random_seed to get the same result every time\n",
    "    \n",
    ") \n",
    "clst.tessellate_seed_points()\n",
    "clst.save() # re-save with the additional tessellation info"
   ]
  },
  {
   "cell_type": "code",
   "execution_count": null,
   "metadata": {},
   "outputs": [],
   "source": [
    "clst.show_tessellated_sub_grain_IDs()"
   ]
  },
  {
   "cell_type": "markdown",
   "metadata": {},
   "source": [
    "### Generate CIPHER input file"
   ]
  },
  {
   "cell_type": "markdown",
   "metadata": {},
   "source": [
    "Here we write the CIPHER input YAML file. Materials should be a dict whose keys correspond to the DAMASK simulation phases. Interfaces should be a dict whose keys are combinations of DAMASK simulation phases separated by a dash (like `phase1-phase2`), with a `-HAGB` or `-LAGB` suffix for the like-phase interfaces, which represet high-angle and low-angle grain boundaries, respectively. For two phases, we must specify:\n",
    "\n",
    "- `phase1-phase2`\n",
    "- `phase1-phase1-HAGB`\n",
    "- `phase1-phase1-LAGB`\n",
    "- `phase2-phase2-HAGB`\n",
    "- `phase2-phase2-LAGB`\n",
    "\n",
    "In `solution_parameters`, sensible values for `interfacewidth` and `maxnrefine` will be automatically set if not specified."
   ]
  },
  {
   "cell_type": "code",
   "execution_count": null,
   "metadata": {},
   "outputs": [],
   "source": [
    "materials = {\n",
    "    \"Ti-alpha\": {\n",
    "        \"chemicalenergy\": \"none\",\n",
    "        \"molarvolume\": 1e-5,\n",
    "        \"temperature0\": 500.0,\n",
    "    },\n",
    "    \"Ti-beta\": {\n",
    "        \"chemicalenergy\": \"none\",\n",
    "        \"molarvolume\": 1e-5,\n",
    "        \"temperature0\": 500.0,\n",
    "    },\n",
    "}\n",
    "\n",
    "interface_properties = {\n",
    "    \"Ti-alpha-Ti-beta\": {\n",
    "        \"energy\": {\"e0\": 0.5},\n",
    "        \"mobility\": {\"m0\": 1.0e-11},\n",
    "    },\n",
    "    \"Ti-alpha-Ti-alpha-HAGB\": {\n",
    "        \"energy\": {\"e0\": 0.5},\n",
    "        \"mobility\": {\"m0\": 1.0e-11},\n",
    "    },\n",
    "    \"Ti-alpha-Ti-alpha-LAGB\": {\n",
    "        \"energy\": {\"e0\": 0.2},\n",
    "        \"mobility\": {\"m0\": 5.0e-11},\n",
    "    },\n",
    "    \"Ti-beta-Ti-beta-HAGB\": {\n",
    "        \"energy\": {\"e0\": 0.5},\n",
    "        \"mobility\": {\"m0\": 1.0e-11},\n",
    "    },\n",
    "    \"Ti-beta-Ti-beta-LAGB\": {\n",
    "        \"energy\": {\"e0\": 0.2},\n",
    "        \"mobility\": {\"m0\": 5.0e-11},\n",
    "    },\n",
    "}\n",
    "\n",
    "solution_parameters = {\n",
    "    \"time\": 1000000,\n",
    "    \"initblocksize\": [1, 1],\n",
    "    \"initrefine\": 8,\n",
    "    \"minnrefine\": 0,\n",
    "    \"initcoarsen\": 6,\n",
    "    \"amrinterval\": 25,\n",
    "    \"outputfreq\": 100,\n",
    "    \"outfile\": \"test_run\",\n",
    "    \"interpolation\": \"cubic\",\n",
    "    \"reltol\": 1e-4,\n",
    "    \"abstol\": 1e-4,\n",
    "    \"petscoptions\": \"-ts_adapt_monitor -ts_rk_type 2a\",\n",
    "    \"random_seed\": 1579993586,\n",
    "}\n",
    "\n",
    "inp = clst.get_cipher_input(\n",
    "    materials=materials,\n",
    "    interface_properties=interface_properties,\n",
    "    components=[\"ti\"],\n",
    "    outputs=[\"phaseid\", \"matid\", \"interfaceid\"],\n",
    "    solution_parameters=solution_parameters,\n",
    "    grid_size_power_of_two=8,\n",
    "    intra_material_interface_segmented_label=\"HAGB\",\n",
    "    intra_material_interface_tessellated_label=\"LAGB\",\n",
    ")\n",
    "\n",
    "# Write the input file:\n",
    "inp.write_yaml(\"demo_seg_cipher.yaml\")\n"
   ]
  },
  {
   "cell_type": "code",
   "execution_count": null,
   "metadata": {},
   "outputs": [],
   "source": [
    "px.imshow(inp.geometry.voxel_phase)"
   ]
  },
  {
   "cell_type": "code",
   "execution_count": null,
   "metadata": {},
   "outputs": [],
   "source": [
    "px.imshow(inp.geometry.get_interface_idx())"
   ]
  },
  {
   "cell_type": "code",
   "execution_count": null,
   "metadata": {},
   "outputs": [],
   "source": [
    "px.imshow(inp.geometry.interface_map)"
   ]
  },
  {
   "cell_type": "code",
   "execution_count": null,
   "metadata": {},
   "outputs": [],
   "source": [
    "inp.geometry.show()"
   ]
  }
 ],
 "metadata": {
  "interpreter": {
   "hash": "e950b018d77b1cd180a23962e364f57414cbe5849eb7fa189272357d6dd92eac"
  },
  "kernelspec": {
   "display_name": "Python 3.7.4 ('phase_field_pre_processor_venv_py37')",
   "language": "python",
   "name": "python3"
  },
  "language_info": {
   "codemirror_mode": {
    "name": "ipython",
    "version": 3
   },
   "file_extension": ".py",
   "mimetype": "text/x-python",
   "name": "python",
   "nbconvert_exporter": "python",
   "pygments_lexer": "ipython3",
   "version": "3.7.4"
  },
  "orig_nbformat": 4
 },
 "nbformat": 4,
 "nbformat_minor": 2
}
