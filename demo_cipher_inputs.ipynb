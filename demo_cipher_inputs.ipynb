{
    "cells": [
        {
            "cell_type": "code",
            "execution_count": null,
            "metadata": {},
            "outputs": [],
            "source": [
                "%load_ext autoreload\n",
                "%autoreload 2"
            ]
        },
        {
            "cell_type": "markdown",
            "metadata": {},
            "source": [
                "## Generating CIPHER input files"
            ]
        },
        {
            "cell_type": "markdown",
            "metadata": {},
            "source": [
                "This notebook has some examples of generating CIPHER input files."
            ]
        },
        {
            "cell_type": "code",
            "execution_count": null,
            "metadata": {},
            "outputs": [],
            "source": [
                "from cipher_input import (\n",
                "    CIPHERInput,\n",
                "    InterfaceDefinition,\n",
                "    PhaseTypeDefinition,\n",
                "    MaterialDefinition,\n",
                ")\n",
                "from quats import quat_sample_random\n",
                "from utilities import read_shockley\n",
                "\n",
                "import plotly.express as px # we could use matplotlib here instead\n",
                "import numpy as np"
            ]
        },
        {
            "cell_type": "markdown",
            "metadata": {},
            "source": [
                "Set up some default material and interface properties, and solution parameters, for the purposes of generating valid input files. You will want to customise these to your problem."
            ]
        },
        {
            "cell_type": "code",
            "execution_count": null,
            "metadata": {},
            "outputs": [],
            "source": [
                "mat_props = {\n",
                "    'chemicalenergy': 'none',\n",
                "    'molarvolume': 1e-5,\n",
                "    'temperature0': 500.0,\n",
                "}\n",
                "\n",
                "int_props_1 = {\n",
                "    'energy': {'e0': 5e+8},\n",
                "    'mobility': {'m0': 1e-11},\n",
                "}\n",
                "int_props_2 = {\n",
                "    'energy': {'e0': 5e+8},\n",
                "    'mobility': {'m0': 1e-11},\n",
                "}\n",
                "\n",
                "solution_params_1 = {\n",
                "  'abstol': 0.0001,\n",
                "  'amrinterval': 25,\n",
                "  'initblocksize': [1, 1, 1],\n",
                "  'initcoarsen': 6,\n",
                "  'initrefine': 7,\n",
                "  'interfacewidth': 4,\n",
                "  'interpolation': 'cubic',\n",
                "  'maxnrefine': 7,\n",
                "  'minnrefine': 0,\n",
                "  'outfile': 'out',\n",
                "  'outputfreq': 100,\n",
                "  'petscoptions': '-ts_adapt_monitor -ts_rk_type 2a',\n",
                "  'random_seed': 1579993586,\n",
                "  'reltol': 0.0001,\n",
                "  'time': 100000000,\n",
                "}\n",
                "\n",
                "solution_params_2 = {**solution_params_1}\n",
                "solution_params_2['initblocksize'] = [1, 1]\n",
                "\n",
                "solution_params_3 = {**solution_params_2}\n",
                "solution_params_3['initrefine'] = 6\n",
                "solution_params_3['maxnrefine'] = 6\n",
                "\n",
                "solution_params_4 = {**solution_params_1}\n",
                "solution_params_4['initblocksize'] = [1, 64, 128]\n",
                "solution_params_4['initrefine'] = 0\n",
                "solution_params_4['initcoarsen'] = 0"
            ]
        },
        {
            "cell_type": "markdown",
            "metadata": {},
            "source": [
                "### 1. Random Voronoi tessellation of phases\n",
                "\n",
                "These example generate the geometry using a Voronoi tessellation of a set of random seed point."
            ]
        },
        {
            "cell_type": "markdown",
            "metadata": {},
            "source": [
                "#### Example 1.1: One interface per material-pair"
            ]
        },
        {
            "cell_type": "code",
            "execution_count": null,
            "metadata": {},
            "outputs": [],
            "source": [
                "# Define the material properties:\n",
                "materials = [\n",
                "    MaterialDefinition(\n",
                "        name=\"mat1\",\n",
                "        properties=mat_props,\n",
                "    ),\n",
                "    MaterialDefinition(\n",
                "        name=\"mat2\",\n",
                "        properties=mat_props,\n",
                "    ),\n",
                "]\n",
                "\n",
                "# Define the interfaces:\n",
                "interfaces = [\n",
                "    InterfaceDefinition(\n",
                "        materials=(\"mat1\", \"mat2\"),\n",
                "        properties=int_props_1,\n",
                "    ),\n",
                "    InterfaceDefinition(\n",
                "        materials=(\"mat1\", \"mat1\"),\n",
                "        properties=int_props_1,\n",
                "    ),\n",
                "    InterfaceDefinition(\n",
                "        materials=(\"mat2\", \"mat2\"),\n",
                "        properties=int_props_1,\n",
                "    ),\n",
                "]\n",
                "\n",
                "input_1_1 = CIPHERInput.from_random_voronoi(\n",
                "    materials=materials,\n",
                "    num_phases=500,\n",
                "    grid_size=[128, 128, 128],\n",
                "    size=[128, 128, 128],\n",
                "    components=[\"ti\"],\n",
                "    outputs=[\"phaseid\", \"matid\", \"interfaceid\"],\n",
                "    solution_parameters=solution_params_1,\n",
                "    interfaces=interfaces,\n",
                ")"
            ]
        },
        {
            "cell_type": "markdown",
            "metadata": {},
            "source": [
                "##### Write the input YAML file"
            ]
        },
        {
            "cell_type": "code",
            "execution_count": null,
            "metadata": {},
            "outputs": [],
            "source": [
                "input_1_1.write_yaml(\"ex_1.1.yaml\")"
            ]
        },
        {
            "cell_type": "markdown",
            "metadata": {},
            "source": [
                "##### Visualise a slice of the phase map"
            ]
        },
        {
            "cell_type": "code",
            "execution_count": null,
            "metadata": {},
            "outputs": [],
            "source": [
                "px.imshow(input_1_1.geometry.voxel_phase[20])"
            ]
        },
        {
            "cell_type": "markdown",
            "metadata": {},
            "source": [
                "##### Visualise a slice of the phase interfaces (hiding bulk voxels)"
            ]
        },
        {
            "cell_type": "code",
            "execution_count": null,
            "metadata": {},
            "outputs": [],
            "source": [
                "px.imshow(input_1_1.geometry.neighbour_voxels[20])"
            ]
        },
        {
            "cell_type": "markdown",
            "metadata": {},
            "source": [
                "##### Visualise the interface map\n",
                "\n",
                "This is the 2D symmetric matrix that CIPHER uses to assign each possible phase-pair to a given interface"
            ]
        },
        {
            "cell_type": "code",
            "execution_count": null,
            "metadata": {},
            "outputs": [],
            "source": [
                "px.imshow(input_1_1.geometry.interface_map)"
            ]
        },
        {
            "cell_type": "markdown",
            "metadata": {},
            "source": [
                "##### Visualise a slice of the interface indices of the interface voxels"
            ]
        },
        {
            "cell_type": "code",
            "execution_count": null,
            "metadata": {},
            "outputs": [],
            "source": [
                "px.imshow(input_1_1.geometry.get_interface_idx()[20])"
            ]
        },
        {
            "cell_type": "markdown",
            "metadata": {},
            "source": [
                "##### Visualise a slice of the material assignment"
            ]
        },
        {
            "cell_type": "code",
            "execution_count": null,
            "metadata": {},
            "outputs": [],
            "source": [
                "px.imshow(input_1_1.geometry.voxel_material[20])"
            ]
        },
        {
            "cell_type": "markdown",
            "metadata": {},
            "source": [
                "##### Visualise a slice of the phase-type assignment\n",
                "\n",
                "In this case, this is identical to the phase-material assignment, because by default, one phase type will be applied to each material."
            ]
        },
        {
            "cell_type": "code",
            "execution_count": null,
            "metadata": {},
            "outputs": [],
            "source": [
                "px.imshow(input_1_1.geometry.voxel_phase_type[20])"
            ]
        },
        {
            "cell_type": "markdown",
            "metadata": {},
            "source": [
                "##### Visualise in 3D - experimental (may crash!)"
            ]
        },
        {
            "cell_type": "code",
            "execution_count": null,
            "metadata": {},
            "outputs": [],
            "source": [
                "input_1_1.geometry.show()"
            ]
        },
        {
            "cell_type": "markdown",
            "metadata": {},
            "source": [
                "#### Example 1.2: Multiple interfaces types for a given phase-pair - equal distribution"
            ]
        },
        {
            "cell_type": "code",
            "execution_count": null,
            "metadata": {},
            "outputs": [],
            "source": [
                "# Define the material properties:\n",
                "materials = [\n",
                "    MaterialDefinition(\n",
                "        name=\"mat1\",\n",
                "        target_volume_fraction=0.2,\n",
                "        properties=mat_props,\n",
                "    ),\n",
                "    MaterialDefinition(\n",
                "        name=\"mat2\",\n",
                "        target_volume_fraction=0.8,\n",
                "        properties=mat_props,\n",
                "    ),\n",
                "]\n",
                "\n",
                "# Define the interfaces:\n",
                "# \"low-angle\" and \"high-angle\" will be equally distributed for the mat1-mat1 interfaces\n",
                "interfaces=[\n",
                "    InterfaceDefinition(\n",
                "        materials=(\"mat1\", \"mat2\"),\n",
                "        properties=int_props_1,\n",
                "    ),\n",
                "    InterfaceDefinition(\n",
                "        materials=(\"mat1\", \"mat1\"),\n",
                "        type_label='low-angle',\n",
                "        properties=int_props_1,\n",
                "    ),\n",
                "    InterfaceDefinition(\n",
                "        materials=(\"mat1\", \"mat1\"),\n",
                "        type_label='high-angle',\n",
                "        properties=int_props_1,\n",
                "    ),    \n",
                "    InterfaceDefinition(\n",
                "        materials=(\"mat2\", \"mat2\"),\n",
                "        properties=int_props_1,\n",
                "    ),\n",
                "]\n",
                "\n",
                "input_1_2 = CIPHERInput.from_random_voronoi(\n",
                "    materials=materials,\n",
                "    num_phases=100,\n",
                "    grid_size=[128, 128],\n",
                "    size=[128, 128],\n",
                "    components=[\"ti\"],\n",
                "    outputs=[\"phaseid\", \"matid\", \"interfaceid\"],\n",
                "    solution_parameters=solution_params_2,\n",
                "    interfaces=interfaces,\n",
                ")"
            ]
        },
        {
            "cell_type": "code",
            "execution_count": null,
            "metadata": {},
            "outputs": [],
            "source": [
                "input_1_2.write_yaml(\"ex_1.2.yaml\")"
            ]
        },
        {
            "cell_type": "code",
            "execution_count": null,
            "metadata": {},
            "outputs": [],
            "source": [
                "px.imshow(input_1_2.geometry.voxel_phase)"
            ]
        },
        {
            "cell_type": "code",
            "execution_count": null,
            "metadata": {},
            "outputs": [],
            "source": [
                "px.imshow(input_1_2.geometry.voxel_material)"
            ]
        },
        {
            "cell_type": "code",
            "execution_count": null,
            "metadata": {},
            "outputs": [],
            "source": [
                "px.imshow(input_1_2.geometry.get_interface_idx())"
            ]
        },
        {
            "cell_type": "markdown",
            "metadata": {},
            "source": [
                "#### Example 1.3: Multiple interfaces types for a given phase-pair - specified distribution"
            ]
        },
        {
            "cell_type": "code",
            "execution_count": null,
            "metadata": {},
            "outputs": [],
            "source": [
                "# Define the material properties:\n",
                "materials = [\n",
                "    MaterialDefinition(\n",
                "        name=\"mat1\",\n",
                "        target_volume_fraction=0.9,\n",
                "        properties=mat_props,\n",
                "    ),\n",
                "    MaterialDefinition(\n",
                "        name=\"mat2\",\n",
                "        target_volume_fraction=0.1,\n",
                "        properties=mat_props,\n",
                "    ),\n",
                "]\n",
                "\n",
                "# Define the interfaces:\n",
                "# \"low-angle\" and \"high-angle\" will be distributed according to `type_fraction`\n",
                "interfaces=[\n",
                "    InterfaceDefinition(\n",
                "        materials=(\"mat1\", \"mat2\"),\n",
                "        properties=int_props_1,\n",
                "    ),\n",
                "    InterfaceDefinition(\n",
                "        materials=(\"mat1\", \"mat1\"),\n",
                "        type_label='low-angle',\n",
                "        type_fraction=0.7,\n",
                "        properties=int_props_1,\n",
                "    ),\n",
                "    InterfaceDefinition(\n",
                "        materials=(\"mat1\", \"mat1\"),\n",
                "        type_label='high-angle',\n",
                "        type_fraction=0.3,\n",
                "        properties=int_props_1,\n",
                "    ),    \n",
                "    InterfaceDefinition(\n",
                "        materials=(\"mat2\", \"mat2\"),\n",
                "        properties=int_props_1,\n",
                "    ),\n",
                "]\n",
                "\n",
                "input_1_3 = CIPHERInput.from_random_voronoi(\n",
                "    materials=materials,\n",
                "    num_phases=100,\n",
                "    grid_size=[128, 128],\n",
                "    size=[128, 128],\n",
                "    components=[\"ti\"],\n",
                "    outputs=[\"phaseid\", \"matid\", \"interfaceid\"],\n",
                "    solution_parameters=solution_params_2,\n",
                "    interfaces=interfaces,\n",
                ")\n",
                "\n",
                "input_1_3.write_yaml(\"ex_1.3.yaml\")"
            ]
        },
        {
            "cell_type": "code",
            "execution_count": null,
            "metadata": {},
            "outputs": [],
            "source": [
                "px.imshow(input_1_3.geometry.voxel_phase)"
            ]
        },
        {
            "cell_type": "code",
            "execution_count": null,
            "metadata": {},
            "outputs": [],
            "source": [
                "px.imshow(input_1_3.geometry.voxel_material)"
            ]
        },
        {
            "cell_type": "code",
            "execution_count": null,
            "metadata": {},
            "outputs": [],
            "source": [
                "px.imshow(input_1_3.geometry.get_interface_idx())"
            ]
        },
        {
            "cell_type": "markdown",
            "metadata": {},
            "source": [
                "### 2. Voronoi tessellation of existing seed points"
            ]
        },
        {
            "cell_type": "markdown",
            "metadata": {},
            "source": [
                "#### Example 2.1: using pre-existing seed positions for the Voronoi tessellation"
            ]
        },
        {
            "cell_type": "markdown",
            "metadata": {},
            "source": [
                "For this, we just use `CIPHERInput.from_seed_voronoi` instead of `CIPHERInput.from_random_voronoi`, and pass `seeds` instead of `num_phases`, where `seeds` should be an `(N, 2)` or `(N, 3)` array for 2D or 3D, respectively. Seeds are specified in real-space units, so must be defined within `size`."
            ]
        },
        {
            "cell_type": "code",
            "execution_count": null,
            "metadata": {},
            "outputs": [],
            "source": [
                "# Here we define some seeds using CIPHERGeometry, but may define seeds in some other way.\n",
                "\n",
                "from cipher_input import CIPHERGeometry\n",
                "\n",
                "grid_size = [128, 128]\n",
                "size = [128, 128]\n",
                "seeds = CIPHERGeometry.get_unique_random_seeds(num_phases=50, grid_size=grid_size, size=size)\n",
                "\n",
                "# visualise the seeds:\n",
                "px.scatter(x=seeds[:, 0], y=seeds[:, 1])"
            ]
        },
        {
            "cell_type": "code",
            "execution_count": null,
            "metadata": {},
            "outputs": [],
            "source": [
                "# Define the material properties:\n",
                "materials = [\n",
                "    MaterialDefinition(\n",
                "        name=\"mat1\",\n",
                "        target_volume_fraction=0.2,\n",
                "        properties=mat_props,\n",
                "    ),\n",
                "    MaterialDefinition(\n",
                "        name=\"mat2\",\n",
                "        target_volume_fraction=0.8,\n",
                "        properties=mat_props,\n",
                "    ),\n",
                "]\n",
                "# Define the interfaces:\n",
                "interfaces = [\n",
                "    InterfaceDefinition(\n",
                "        materials=(\"mat1\", \"mat2\"),\n",
                "        properties=int_props_1,\n",
                "    ),\n",
                "    InterfaceDefinition(\n",
                "        materials=(\"mat1\", \"mat1\"),\n",
                "        properties=int_props_1,\n",
                "    ),\n",
                "    InterfaceDefinition(\n",
                "        materials=(\"mat2\", \"mat2\"),\n",
                "        properties=int_props_1,\n",
                "    ),\n",
                "]\n",
                "\n",
                "input_2_1 = CIPHERInput.from_seed_voronoi(\n",
                "    materials=materials,    \n",
                "    seeds=seeds,\n",
                "    grid_size=grid_size,\n",
                "    size=size,\n",
                "    components=[\"ti\"],\n",
                "    outputs=[\"phaseid\", \"matid\", \"interfaceid\"],\n",
                "    solution_parameters=solution_params_2,\n",
                "    interfaces=interfaces,\n",
                ")\n",
                "\n",
                "input_2_1.write_yaml(\"ex_2.1.yaml\")"
            ]
        },
        {
            "cell_type": "code",
            "execution_count": null,
            "metadata": {},
            "outputs": [],
            "source": [
                "fig = px.imshow(input_2_1.geometry.voxel_phase)\n",
                "fig.add_scatter(x=seeds[:, 0], y=seeds[:, 1], mode='markers')"
            ]
        },
        {
            "cell_type": "markdown",
            "metadata": {},
            "source": [
                "### 3. Using pre-existing voxel-phase map"
            ]
        },
        {
            "cell_type": "markdown",
            "metadata": {},
            "source": [
                "We can pass in directly the voxel map if we have it, using `CIPHERInput.from_voxel_phase_map`."
            ]
        },
        {
            "cell_type": "code",
            "execution_count": null,
            "metadata": {},
            "outputs": [],
            "source": [
                "# First let's generate a simple 2D voxel phase map. This could be generated in some other way.\n",
                "from discrete_voronoi import DiscreteVoronoi\n",
                "\n",
                "size = [64, 64]\n",
                "num_phases = 10\n",
                "voronoi_obj = DiscreteVoronoi.from_random(\n",
                "    size=size,\n",
                "    grid_size=[64, 64],\n",
                "    num_regions=num_phases,\n",
                ")\n",
                "voxel_phase = voronoi_obj.region_ID\n",
                "\n",
                "# visualise the voxel_phase map:\n",
                "px.imshow(voxel_phase)"
            ]
        },
        {
            "cell_type": "markdown",
            "metadata": {},
            "source": [
                "#### Example 3.1: phase-material assignment using specified volume fractions"
            ]
        },
        {
            "cell_type": "code",
            "execution_count": null,
            "metadata": {},
            "outputs": [],
            "source": [
                "# Define the material properties:\n",
                "materials = [\n",
                "    MaterialDefinition(\n",
                "        name=\"mat1\",\n",
                "        target_volume_fraction=0.2,\n",
                "        properties=mat_props,\n",
                "    ),\n",
                "    MaterialDefinition(\n",
                "        name=\"mat2\",\n",
                "        target_volume_fraction=0.8,\n",
                "        properties=mat_props,\n",
                "    ),\n",
                "]\n",
                "\n",
                "# Define the interfaces:\n",
                "interfaces = [\n",
                "    InterfaceDefinition(\n",
                "        materials=(\"mat1\", \"mat2\"),\n",
                "        properties=int_props_1,\n",
                "    ),\n",
                "    InterfaceDefinition(\n",
                "        materials=(\"mat1\", \"mat1\"),\n",
                "        properties=int_props_1,\n",
                "    ),\n",
                "    InterfaceDefinition(\n",
                "        materials=(\"mat2\", \"mat2\"),\n",
                "        properties=int_props_1,\n",
                "    ),\n",
                "]\n",
                "\n",
                "input_3_1 = CIPHERInput.from_voxel_phase_map(\n",
                "    voxel_phase=voxel_phase,\n",
                "    materials=materials,\n",
                "    size=size,\n",
                "    components=[\"ti\"],\n",
                "    outputs=[\"phaseid\", \"matid\", \"interfaceid\"],\n",
                "    solution_parameters=solution_params_3,\n",
                "    interfaces=interfaces,\n",
                ")\n",
                "\n",
                "input_3_1.write_yaml(\"ex_3.1.yaml\")"
            ]
        },
        {
            "cell_type": "code",
            "execution_count": null,
            "metadata": {},
            "outputs": [],
            "source": [
                "px.imshow(input_3_1.geometry.voxel_phase)"
            ]
        },
        {
            "cell_type": "code",
            "execution_count": null,
            "metadata": {},
            "outputs": [],
            "source": [
                "px.imshow(input_3_1.geometry.voxel_material)"
            ]
        },
        {
            "cell_type": "code",
            "execution_count": null,
            "metadata": {},
            "outputs": [],
            "source": [
                "# check actual volume fractions:\n",
                "input_3_1.geometry.material_volume_fractions"
            ]
        },
        {
            "cell_type": "markdown",
            "metadata": {},
            "source": [
                "#### Example 3.2: specify phase_material assignment as well"
            ]
        },
        {
            "cell_type": "markdown",
            "metadata": {},
            "source": [
                "Instead of using `target_volume_fractions` within a `MaterialDefinition`, we can specify directly which phases are associated with each material:"
            ]
        },
        {
            "cell_type": "code",
            "execution_count": null,
            "metadata": {},
            "outputs": [],
            "source": [
                "# Generate a phase material mapping. This could be done in some other way.\n",
                "rng = np.random.default_rng()\n",
                "phase_material = rng.choice(a=2, size=num_phases)\n",
                "print(phase_material)"
            ]
        },
        {
            "cell_type": "code",
            "execution_count": null,
            "metadata": {},
            "outputs": [],
            "source": [
                "# Define the material properties:\n",
                "materials = [\n",
                "    MaterialDefinition(\n",
                "        name=\"mat1\",\n",
                "        properties=mat_props,\n",
                "        phases=np.where(phase_material == 0)[0],\n",
                "    ),\n",
                "    MaterialDefinition(\n",
                "        name=\"mat2\",\n",
                "        properties=mat_props,\n",
                "        phases=np.where(phase_material == 1)[0],\n",
                "    ),\n",
                "]"
            ]
        },
        {
            "cell_type": "code",
            "execution_count": null,
            "metadata": {},
            "outputs": [],
            "source": [
                "# Define the interfaces:\n",
                "interfaces = [\n",
                "    InterfaceDefinition(\n",
                "        materials=(\"mat1\", \"mat2\"),\n",
                "        properties=int_props_1,\n",
                "    ),\n",
                "    InterfaceDefinition(\n",
                "        materials=(\"mat1\", \"mat1\"),\n",
                "        properties=int_props_1,\n",
                "    ),\n",
                "    InterfaceDefinition(\n",
                "        materials=(\"mat2\", \"mat2\"),\n",
                "        properties=int_props_1,\n",
                "    ),\n",
                "]\n",
                "\n",
                "input_3_2 = CIPHERInput.from_voxel_phase_map(\n",
                "    voxel_phase=voxel_phase,\n",
                "    materials=materials,\n",
                "    size=size,\n",
                "    components=[\"ti\"],\n",
                "    outputs=[\"phaseid\", \"matid\", \"interfaceid\"],\n",
                "    solution_parameters=solution_params_3,\n",
                "    interfaces=interfaces,\n",
                ")\n",
                "\n",
                "input_3_2.write_yaml(\"ex_3.2.yaml\")"
            ]
        },
        {
            "cell_type": "code",
            "execution_count": null,
            "metadata": {},
            "outputs": [],
            "source": [
                "px.imshow(input_3_2.geometry.voxel_phase)"
            ]
        },
        {
            "cell_type": "code",
            "execution_count": null,
            "metadata": {},
            "outputs": [],
            "source": [
                "px.imshow(input_3_2.geometry.voxel_material)"
            ]
        },
        {
            "cell_type": "markdown",
            "metadata": {},
            "source": [
                "### 4. Using pre-existing phase-interface maps"
            ]
        },
        {
            "cell_type": "markdown",
            "metadata": {},
            "source": [
                "By default, if multiple interface definitions are provided for a material pair, the interfaces are randomly assigned in equal proportion, or according to the `type_fraction` parameter, if specified.\n",
                "\n",
                "However, we can also provide the interface indices for a given set of phases manually. In the example below, we have two interface definitions for the material pair (`mat1`, `mat2`), one labelled `low-angle` and another labelled `high-angle`. We use the `phase_pairs` parameter in both of these interface definitions to select the subset of phase interfaces that should belong to each interface definition. Note that the union of this parameter across all interface definitions for a given material pair must be the set of all phase pairs belonging to that material pair.\n",
                "\n",
                "Using pre-existing phase-interface maps only really makes sense if we are also using a pre-existing voxel-phase map and phase-material map, so let's generate a dummy voxel-phase map and dummy phase-material map:"
            ]
        },
        {
            "cell_type": "markdown",
            "metadata": {},
            "source": [
                "#### Example 4.1"
            ]
        },
        {
            "cell_type": "code",
            "execution_count": null,
            "metadata": {},
            "outputs": [],
            "source": [
                "# First let's generate a simple 2D voxel phase map. This could be generated in some other way.\n",
                "from discrete_voronoi import DiscreteVoronoi\n",
                "\n",
                "size = [64, 64]\n",
                "num_phases = 10\n",
                "voronoi_obj = DiscreteVoronoi.from_random(\n",
                "    size=size,\n",
                "    grid_size=[64, 64],\n",
                "    num_regions=num_phases,\n",
                ")\n",
                "voxel_phase = voronoi_obj.region_ID\n",
                "\n",
                "# visualise the voxel_phase map:\n",
                "px.imshow(voxel_phase)"
            ]
        },
        {
            "cell_type": "code",
            "execution_count": null,
            "metadata": {},
            "outputs": [],
            "source": [
                "# Generate a phase material mapping. This could be done in some other way.\n",
                "rng = np.random.default_rng()\n",
                "phase_material = rng.choice(a=2, size=num_phases)\n",
                "print(phase_material)"
            ]
        },
        {
            "cell_type": "code",
            "execution_count": null,
            "metadata": {},
            "outputs": [],
            "source": [
                "# Define the material properties:\n",
                "materials = [\n",
                "    MaterialDefinition(\n",
                "        name=\"mat1\",\n",
                "        properties=mat_props,\n",
                "        phases=np.where(phase_material == 0)[0],\n",
                "    ),\n",
                "    MaterialDefinition(\n",
                "        name=\"mat2\",\n",
                "        properties=mat_props,\n",
                "        phases=np.where(phase_material == 1)[0],\n",
                "    ),\n",
                "]"
            ]
        },
        {
            "cell_type": "code",
            "execution_count": null,
            "metadata": {},
            "outputs": [],
            "source": [
                "# We are concerned with the `mat1-mat1` interfaces (i.e. 0-0)\n",
                "mat_A_idx = 0\n",
                "mat_B_idx = 0\n",
                "\n",
                "mat_A_phase_idx = np.where(phase_material == mat_A_idx)[0]\n",
                "mat_B_phase_idx = np.where(phase_material == mat_B_idx)[0]\n",
                "\n",
                "A_idx = np.repeat(mat_A_phase_idx, mat_B_phase_idx.shape[0])\n",
                "B_idx = np.tile(mat_B_phase_idx, mat_A_phase_idx.shape[0])\n",
                "\n",
                "map_idx = np.vstack((A_idx, B_idx))\n",
                "map_idx_srt = np.sort(map_idx, axis=0)  # map onto upper triangle\n",
                "map_idx_uniq = np.unique(map_idx_srt, axis=1)  # get unique pairs only\n",
                "\n",
                "# remove diagonal elements (a phase can't have an interface with itself)\n",
                "map_idx_non_trivial = map_idx_uniq[:, map_idx_uniq[0] != map_idx_uniq[1]]\n",
                "\n",
                "# arbitrarily split up into type 1 and type 2:\n",
                "type_1_phase_pairs, type_2_phase_pairs = np.array_split(map_idx_non_trivial, 2, axis=1)"
            ]
        },
        {
            "cell_type": "code",
            "execution_count": null,
            "metadata": {},
            "outputs": [],
            "source": [
                "print(type_1_phase_pairs, '\\n')\n",
                "print(type_2_phase_pairs)"
            ]
        },
        {
            "cell_type": "code",
            "execution_count": null,
            "metadata": {},
            "outputs": [],
            "source": [
                "# Define the interfaces:\n",
                "interfaces=[\n",
                "    InterfaceDefinition(\n",
                "        materials=(\"mat1\", \"mat2\"),\n",
                "        properties=int_props_1,\n",
                "    ),\n",
                "    InterfaceDefinition(\n",
                "        materials=(\"mat1\", \"mat1\"),\n",
                "        type_label='low-angle',\n",
                "        phase_pairs=type_1_phase_pairs.T,\n",
                "        properties=int_props_1,\n",
                "    ),\n",
                "    InterfaceDefinition(\n",
                "        materials=(\"mat1\", \"mat1\"),\n",
                "        type_label='high-angle',\n",
                "        phase_pairs=type_2_phase_pairs.T,\n",
                "        properties=int_props_1,\n",
                "    ),    \n",
                "    InterfaceDefinition(\n",
                "        materials=(\"mat2\", \"mat2\"),\n",
                "        properties=int_props_1,\n",
                "    ),\n",
                "]\n",
                "\n",
                "input_4_1 = CIPHERInput.from_voxel_phase_map(\n",
                "    voxel_phase=voxel_phase,\n",
                "    materials=materials,    \n",
                "    size=size,\n",
                "    components=[\"ti\"],\n",
                "    outputs=[\"phaseid\", \"matid\", \"interfaceid\"],\n",
                "    solution_parameters=solution_params_3,\n",
                "    interfaces=interfaces,\n",
                ")"
            ]
        },
        {
            "cell_type": "code",
            "execution_count": null,
            "metadata": {},
            "outputs": [],
            "source": [
                "px.imshow(input_4_1.geometry.voxel_phase)"
            ]
        },
        {
            "cell_type": "code",
            "execution_count": null,
            "metadata": {},
            "outputs": [],
            "source": [
                "px.imshow(input_4_1.geometry.get_interface_idx())"
            ]
        },
        {
            "cell_type": "code",
            "execution_count": null,
            "metadata": {},
            "outputs": [],
            "source": [
                "input_4_1.write_yaml(\"ex_4.1.yaml\")"
            ]
        },
        {
            "cell_type": "markdown",
            "metadata": {},
            "source": [
                "### 5. Specifying multiple phase types within a material"
            ]
        },
        {
            "cell_type": "markdown",
            "metadata": {},
            "source": [
                "#### Example 5.1"
            ]
        },
        {
            "cell_type": "code",
            "execution_count": null,
            "metadata": {},
            "outputs": [],
            "source": [
                "# Define the material properties:\n",
                "materials = [\n",
                "    MaterialDefinition(\n",
                "        name=\"mat1\",\n",
                "        phase_types=[\n",
                "            PhaseTypeDefinition(type_label='type_1', target_type_fraction=0.3),\n",
                "            PhaseTypeDefinition(type_label='type_2', target_type_fraction=0.7),\n",
                "        ],\n",
                "        properties=mat_props,\n",
                "    ),\n",
                "]\n",
                "\n",
                "# Define the interfaces (using `phase_types` instead of `materials`):\n",
                "interfaces = [\n",
                "    InterfaceDefinition(\n",
                "        phase_types=(\"mat1-type_1\", \"mat1-type_2\"),\n",
                "        properties=int_props_1,\n",
                "    ),\n",
                "    InterfaceDefinition(\n",
                "        phase_types=(\"mat1-type_1\", \"mat1-type_1\"),\n",
                "        properties=int_props_1,\n",
                "    ),\n",
                "    InterfaceDefinition(\n",
                "        phase_types=(\"mat1-type_2\", \"mat1-type_2\"),\n",
                "        properties=int_props_1,\n",
                "    ),\n",
                "]\n",
                "\n",
                "input_5_1 = CIPHERInput.from_random_voronoi(\n",
                "    materials=materials,\n",
                "    num_phases=50,\n",
                "    grid_size=[128, 128],\n",
                "    size=[128, 128],\n",
                "    components=[\"ti\"],\n",
                "    outputs=[\"phaseid\", \"matid\", \"interfaceid\"],\n",
                "    solution_parameters=solution_params_2,\n",
                "    interfaces=interfaces,\n",
                ")"
            ]
        },
        {
            "cell_type": "code",
            "execution_count": null,
            "metadata": {},
            "outputs": [],
            "source": [
                "px.imshow(input_5_1.geometry.voxel_phase)"
            ]
        },
        {
            "cell_type": "code",
            "execution_count": null,
            "metadata": {},
            "outputs": [],
            "source": [
                "px.imshow(input_5_1.geometry.voxel_material)"
            ]
        },
        {
            "cell_type": "code",
            "execution_count": null,
            "metadata": {},
            "outputs": [],
            "source": [
                "px.imshow(input_5_1.geometry.voxel_phase_type)"
            ]
        },
        {
            "cell_type": "code",
            "execution_count": null,
            "metadata": {},
            "outputs": [],
            "source": [
                "input_5_1.write_yaml(\"ex_5.1.yaml\")"
            ]
        },
        {
            "cell_type": "markdown",
            "metadata": {},
            "source": [
                "### 6. Importing from Dream.3D"
            ]
        },
        {
            "cell_type": "markdown",
            "metadata": {},
            "source": [
                "We can build a synthetic microstructure in Dream3D and then generate a CIPHERInput from the Dream3D data (HDF5) file."
            ]
        },
        {
            "cell_type": "markdown",
            "metadata": {},
            "source": [
                "#### Example 6.1"
            ]
        },
        {
            "cell_type": "code",
            "execution_count": null,
            "metadata": {},
            "outputs": [],
            "source": [
                "# Define the material properties (these are \"phases\" in Dream3D):\n",
                "materials = [\n",
                "    MaterialDefinition(\n",
                "        name=\"Primary\",\n",
                "        properties=mat_props,\n",
                "    ),\n",
                "    MaterialDefinition(\n",
                "        name=\"Precipitate\",\n",
                "        properties=mat_props,\n",
                "    ),\n",
                "]\n",
                "\n",
                "# Define the interfaces:\n",
                "interfaces = [\n",
                "    InterfaceDefinition(\n",
                "        materials=(\"Primary\", \"Primary\"),\n",
                "        properties=int_props_1,\n",
                "    ),\n",
                "    InterfaceDefinition(\n",
                "        materials=(\"Precipitate\", \"Precipitate\"),\n",
                "        properties=int_props_1,\n",
                "    ),\n",
                "    InterfaceDefinition(\n",
                "        materials=(\"Primary\", \"Precipitate\"),\n",
                "        properties=int_props_1,\n",
                "    ),\n",
                "]\n",
                "\n",
                "input_6_1 = CIPHERInput.from_dream3D(\n",
                "    path=\"example_data/dream3d/2D/synthetic_d3d.dream3d\",\n",
                "    materials=materials,\n",
                "    interfaces=interfaces,\n",
                "    components=[\"ti\"],\n",
                "    outputs=[\"phaseid\", \"matid\", \"interfaceid\"],\n",
                "    solution_parameters=solution_params_4,\n",
                ")"
            ]
        },
        {
            "cell_type": "code",
            "execution_count": null,
            "metadata": {},
            "outputs": [],
            "source": [
                "input_6_1.write_yaml(\"ex_6.1.yaml\")"
            ]
        },
        {
            "cell_type": "code",
            "execution_count": null,
            "metadata": {},
            "outputs": [],
            "source": [
                "px.imshow(input_6_1.geometry.voxel_phase[0])"
            ]
        },
        {
            "cell_type": "code",
            "execution_count": null,
            "metadata": {},
            "outputs": [],
            "source": [
                "px.imshow(input_6_1.geometry.voxel_material[0])"
            ]
        },
        {
            "cell_type": "code",
            "execution_count": null,
            "metadata": {},
            "outputs": [],
            "source": [
                "# orientations are passed in from Dream3D as quaternions.\n",
                "# here is the first quaternion component for each voxel:\n",
                "px.imshow(input_6_1.geometry.voxel_orientation[0, ..., 0])"
            ]
        },
        {
            "cell_type": "code",
            "execution_count": null,
            "metadata": {},
            "outputs": [],
            "source": [
                "input_6_1.geometry.show()"
            ]
        },
        {
            "cell_type": "markdown",
            "metadata": {},
            "source": [
                "#### Example 6.2: Defining phase types within the same material via Dream3D"
            ]
        },
        {
            "cell_type": "markdown",
            "metadata": {},
            "source": [
                "We can assign the different Dream3D \"phases\" to the same CIPHER \"material\" definition by using `phase_types`."
            ]
        },
        {
            "cell_type": "code",
            "execution_count": null,
            "metadata": {},
            "outputs": [],
            "source": [
                "# Define the material properties:\n",
                "materials = [\n",
                "    MaterialDefinition(\n",
                "        name=\"mat1\",\n",
                "        phase_types = [\n",
                "            PhaseTypeDefinition(type_label=\"phase_type_1\"),\n",
                "            PhaseTypeDefinition(type_label=\"phase_type_2\"),\n",
                "        ], \n",
                "        properties=mat_props,\n",
                "    ),\n",
                "]\n",
                "\n",
                "# Define the interfaces, where we know specify phase_type pairs instead of material pairs:\n",
                "interfaces = [\n",
                "    InterfaceDefinition(\n",
                "        phase_types=(\"mat1-phase_type_1\", \"mat1-phase_type_1\"),\n",
                "        properties=int_props_1,\n",
                "    ),\n",
                "    InterfaceDefinition(\n",
                "        phase_types=(\"mat1-phase_type_2\", \"mat1-phase_type_2\"),\n",
                "        properties=int_props_1,\n",
                "    ),\n",
                "    InterfaceDefinition(\n",
                "        phase_types=(\"mat1-phase_type_1\", \"mat1-phase_type_2\"),\n",
                "        properties=int_props_1,\n",
                "    ),\n",
                "]\n",
                "\n",
                "# We also need provide a `phase_type_map` to state which Dream3D phases correspond to which\n",
                "# CIPHER phase types:\n",
                "input_6_2 = CIPHERInput.from_dream3D(\n",
                "    path=\"example_data/dream3d/2D/synthetic_d3d.dream3d\",\n",
                "    materials=materials,\n",
                "    interfaces=interfaces,\n",
                "    components=[\"ti\"],\n",
                "    outputs=[\"phaseid\", \"matid\", \"interfaceid\"],\n",
                "    solution_parameters=solution_params_4,\n",
                "    phase_type_map={\n",
                "        'Primary': 'mat1-phase_type_1',\n",
                "        'Precipitate': 'mat1-phase_type_2',\n",
                "    }\n",
                ")"
            ]
        },
        {
            "cell_type": "code",
            "execution_count": null,
            "metadata": {},
            "outputs": [],
            "source": [
                "px.imshow(input_6_2.geometry.voxel_phase[0])"
            ]
        },
        {
            "cell_type": "code",
            "execution_count": null,
            "metadata": {},
            "outputs": [],
            "source": [
                "px.imshow(input_6_2.geometry.voxel_material[0])"
            ]
        },
        {
            "cell_type": "code",
            "execution_count": null,
            "metadata": {},
            "outputs": [],
            "source": [
                "px.imshow(input_6_2.geometry.voxel_phase_type[0])"
            ]
        },
        {
            "cell_type": "markdown",
            "metadata": {},
            "source": [
                "### 7. Encoding texture information (via interface properties)"
            ]
        },
        {
            "cell_type": "markdown",
            "metadata": {},
            "source": [
                "Within a given material, we might want to encode texture information. This can be done via interfacial properties, and by using `phase_types`. For example, if each CIPHER phase is assigned an orientation, then we could calculate a misorientation between phase pairs, and then use the empirical Read-Shockley relationship to provide grain boundary energies."
            ]
        },
        {
            "cell_type": "code",
            "execution_count": null,
            "metadata": {},
            "outputs": [],
            "source": [
                "RS_params = {\n",
                "    'E_max': 1.2,\n",
                "    'theta_max': 50,\n",
                "    'degrees': True,\n",
                "}\n",
                "theta_deg = np.linspace(0.0, 100)\n",
                "energy = read_shockley(theta_deg, **RS_params)\n",
                "fig = px.line(\n",
                "    x=theta_deg,\n",
                "    y=energy,\n",
                "    labels={\"x\": \"Misorientation angle /deg.\", \"y\": \"GB energy / Jm^-2\"},\n",
                "    title='Read-Shockley relationship for LAGBs',\n",
                "    width=600,\n",
                ")\n",
                "fig"
            ]
        },
        {
            "cell_type": "markdown",
            "metadata": {},
            "source": [
                "#### Example 7.1: passing orientations directly"
            ]
        },
        {
            "cell_type": "code",
            "execution_count": null,
            "metadata": {},
            "outputs": [],
            "source": [
                "# Define phase indices for each material:\n",
                "phases_1 = [0, 1]\n",
                "phases_2 = [2, 3]\n",
                "\n",
                "# Define the material properties and pass in orientations:\n",
                "materials = [\n",
                "    MaterialDefinition(\n",
                "        name=\"mat1\",\n",
                "        phase_types=[\n",
                "            PhaseTypeDefinition(\n",
                "                phases=phases_1,\n",
                "                orientations=quat_sample_random(len(phases_1)),\n",
                "            ),\n",
                "        ],\n",
                "        properties=mat_props,\n",
                "    ),\n",
                "    MaterialDefinition(\n",
                "        name=\"mat2\",\n",
                "        phase_types=[\n",
                "            PhaseTypeDefinition(\n",
                "                phases=phases_2,\n",
                "                orientations=quat_sample_random(len(phases_2)),\n",
                "            ),\n",
                "        ],\n",
                "        properties=mat_props,\n",
                "    ),\n",
                "]\n",
                "\n",
                "# Define the interfaces:\n",
                "interfaces = [\n",
                "    InterfaceDefinition(\n",
                "        phase_types=(\"mat1\", \"mat1\"),\n",
                "        properties=int_props_1,\n",
                "    ),\n",
                "    InterfaceDefinition(\n",
                "        phase_types=(\"mat2\", \"mat2\"),\n",
                "        properties=int_props_1,\n",
                "    ),    \n",
                "    InterfaceDefinition(\n",
                "        phase_types=(\"mat1\", \"mat2\"),\n",
                "        properties=int_props_1,\n",
                "    ),\n",
                "]\n",
                "\n",
                "input_7_1 = CIPHERInput.from_random_voronoi(\n",
                "    materials=materials,\n",
                "    num_phases=len(phases_1) + len(phases_2),\n",
                "    grid_size=[128, 128],\n",
                "    size=[128, 128],\n",
                "    components=[\"ti\"],\n",
                "    outputs=[\"phaseid\", \"matid\", \"interfaceid\"],\n",
                "    solution_parameters=solution_params_2,\n",
                "    interfaces=interfaces,\n",
                ")"
            ]
        },
        {
            "cell_type": "code",
            "execution_count": null,
            "metadata": {},
            "outputs": [],
            "source": [
                "px.imshow(input_7_1.geometry.voxel_phase)"
            ]
        },
        {
            "cell_type": "code",
            "execution_count": null,
            "metadata": {},
            "outputs": [],
            "source": [
                "# get orientations of all phases:\n",
                "input_7_1.geometry.phase_orientation"
            ]
        },
        {
            "cell_type": "code",
            "execution_count": null,
            "metadata": {},
            "outputs": [],
            "source": [
                "# show the first quaternion component of each voxel:\n",
                "px.imshow(input_7_1.geometry.voxel_orientation[..., 0])"
            ]
        },
        {
            "cell_type": "markdown",
            "metadata": {},
            "source": [
                "Now find the misorientation angles between all phase-pairs:"
            ]
        },
        {
            "cell_type": "code",
            "execution_count": null,
            "metadata": {},
            "outputs": [],
            "source": [
                "misori = input_7_1.geometry.get_misorientation_matrix()\n",
                "px.imshow(misori)"
            ]
        },
        {
            "cell_type": "markdown",
            "metadata": {},
            "source": [
                "Now convert this misorientation into grain boundary energies via the Read-Shockley relationship:"
            ]
        },
        {
            "cell_type": "code",
            "execution_count": null,
            "metadata": {},
            "outputs": [],
            "source": [
                "E_GB = read_shockley(misori, **RS_params)\n",
                "px.imshow(E_GB)"
            ]
        },
        {
            "cell_type": "markdown",
            "metadata": {},
            "source": [
                "We can then \"expand\" the existing interface definition into multiple interface definitions (one for each phase pair):"
            ]
        },
        {
            "cell_type": "code",
            "execution_count": null,
            "metadata": {},
            "outputs": [],
            "source": [
                "input_7_1.apply_interface_property(\n",
                "    base_interface_name=\"mat1-mat2\",\n",
                "    property_name=('energy', 'e0'),\n",
                "    property_values=E_GB * 3e8,\n",
                ")"
            ]
        },
        {
            "cell_type": "markdown",
            "metadata": {},
            "source": [
                "Check the number of interfaces has increased. There should be:\n",
                "\n",
                "`num_phases * (num_phases -1 ) / 2`"
            ]
        },
        {
            "cell_type": "code",
            "execution_count": null,
            "metadata": {},
            "outputs": [],
            "source": [
                "int(input_7_1.geometry.num_phases * (input_7_1.geometry.num_phases - 1) / 2)"
            ]
        },
        {
            "cell_type": "code",
            "execution_count": null,
            "metadata": {},
            "outputs": [],
            "source": [
                "len(input_7_1.geometry.interfaces)"
            ]
        },
        {
            "cell_type": "code",
            "execution_count": null,
            "metadata": {},
            "outputs": [],
            "source": [
                "input_7_1.write_yaml('ex_7.1.yaml')"
            ]
        },
        {
            "cell_type": "markdown",
            "metadata": {},
            "source": [
                "#### Example 7.2: passing orientations directly (binning interfaces by GB energy)"
            ]
        },
        {
            "cell_type": "code",
            "execution_count": null,
            "metadata": {},
            "outputs": [],
            "source": [
                "RS_params = {\n",
                "    'E_max': 1.2,\n",
                "    'theta_max': 50,\n",
                "    'degrees': True,\n",
                "}\n",
                "theta_deg = np.linspace(0, 100)\n",
                "energy = read_shockley(theta_deg, **RS_params)\n",
                "fig = px.line(\n",
                "    x=theta_deg,\n",
                "    y=energy,\n",
                "    labels={\"x\": \"Misorientation angle /deg.\", \"y\": \"GB energy / Jm^-2\"},\n",
                "    title='Read-Shockley relationship for LAGBs',\n",
                "    width=600,\n",
                ")\n",
                "fig"
            ]
        },
        {
            "cell_type": "code",
            "execution_count": null,
            "metadata": {},
            "outputs": [],
            "source": [
                "num_phases = 10\n",
                "\n",
                "# Define the material properties and pass in orientations:\n",
                "materials = [\n",
                "    MaterialDefinition(\n",
                "        name=\"mat1\",\n",
                "        phase_types=[\n",
                "            PhaseTypeDefinition(\n",
                "                phases=np.arange(num_phases),\n",
                "                orientations=quat_sample_random(num_phases)\n",
                "            ),\n",
                "        ],\n",
                "        properties=mat_props,\n",
                "    ),\n",
                "]\n",
                "\n",
                "# Define the interfaces:\n",
                "interfaces = [\n",
                "    InterfaceDefinition(\n",
                "        phase_types=(\"mat1\", \"mat1\"),\n",
                "        properties=int_props_1,\n",
                "    ),\n",
                "]\n",
                "\n",
                "input_7_2 = CIPHERInput.from_random_voronoi(\n",
                "    materials=materials,\n",
                "    num_phases=num_phases,\n",
                "    grid_size=[128, 128],\n",
                "    size=[128, 128],\n",
                "    components=[\"ti\"],\n",
                "    outputs=[\"phaseid\", \"matid\", \"interfaceid\"],\n",
                "    solution_parameters=solution_params_2,\n",
                "    interfaces=interfaces,\n",
                ")\n",
                "\n",
                "misori = input_7_2.geometry.get_misorientation_matrix()\n",
                "E_GB = read_shockley(misori, **RS_params)\n",
                "\n",
                "input_7_2.apply_interface_property(\n",
                "    base_interface_name=\"mat1-mat1\",\n",
                "    property_name=('energy', 'e0'),\n",
                "    property_values=E_GB * 3e8,\n",
                "    additional_metadata={'misorientation': misori},\n",
                "    bin_edges=np.linspace(0, RS_params['E_max'] * 3e8, num=30),\n",
                ")\n",
                "input_7_2.write_yaml('ex_7.2.yaml')"
            ]
        },
        {
            "cell_type": "code",
            "execution_count": null,
            "metadata": {},
            "outputs": [],
            "source": []
        }
    ],
    "metadata": {
        "kernelspec": {
            "display_name": "Python 3.7.4 ('phase_field_pre_processor_venv_py37')",
            "language": "python",
            "name": "python3"
        },
        "language_info": {
            "codemirror_mode": {
                "name": "ipython",
                "version": 3
            },
            "file_extension": ".py",
            "mimetype": "text/x-python",
            "name": "python",
            "nbconvert_exporter": "python",
            "pygments_lexer": "ipython3",
            "version": "3.7.4"
        },
        "orig_nbformat": 4,
        "vscode": {
            "interpreter": {
                "hash": "e950b018d77b1cd180a23962e364f57414cbe5849eb7fa189272357d6dd92eac"
            }
        }
    },
    "nbformat": 4,
    "nbformat_minor": 2
}
