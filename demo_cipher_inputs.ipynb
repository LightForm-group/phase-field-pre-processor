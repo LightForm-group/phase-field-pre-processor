{
 "cells": [
  {
   "cell_type": "code",
   "execution_count": null,
   "metadata": {},
   "outputs": [],
   "source": [
    "%load_ext autoreload\n",
    "%autoreload 2"
   ]
  },
  {
   "cell_type": "markdown",
   "metadata": {},
   "source": [
    "## Generating CIPHER input files"
   ]
  },
  {
   "cell_type": "markdown",
   "metadata": {},
   "source": [
    "This notebook has some usage examples for generating a CIPHER input file."
   ]
  },
  {
   "cell_type": "code",
   "execution_count": null,
   "metadata": {},
   "outputs": [],
   "source": [
    "from cipher_input import CIPHERInput, InterfaceDefinition\n",
    "import plotly.express as px # we could use matplotlib here instead\n",
    "import numpy as np"
   ]
  },
  {
   "cell_type": "markdown",
   "metadata": {},
   "source": [
    "### 1. Random Voronoi tessellation of phases\n",
    "\n",
    "These example generate the geometry using a Voronoi tessellation of a set of random seed point."
   ]
  },
  {
   "cell_type": "markdown",
   "metadata": {},
   "source": [
    "#### Example 1.1: One interface per material-pair"
   ]
  },
  {
   "cell_type": "code",
   "execution_count": null,
   "metadata": {},
   "outputs": [],
   "source": [
    "# Define the material properties:\n",
    "materials = {\n",
    "    \"mat1\": {\"chemicalenergy\": \"none\"},\n",
    "    \"mat2\": {\"chemicalenergy\": \"none\"},\n",
    "}\n",
    "\n",
    "# Define the interfaces:\n",
    "interfaces = [\n",
    "    InterfaceDefinition(\n",
    "        materials=(\"mat1\", \"mat2\"),\n",
    "        properties={\"energy\": {\"e0\": 1}},\n",
    "    ),\n",
    "    InterfaceDefinition(\n",
    "        materials=(\"mat1\", \"mat1\"),\n",
    "        properties={\"energy\": {\"e0\": 1}},\n",
    "    ),\n",
    "    InterfaceDefinition(\n",
    "        materials=(\"mat2\", \"mat2\"),\n",
    "        properties={\"energy\": {\"e0\": 3}}\n",
    "    ),\n",
    "]\n",
    "\n",
    "input_1_1 = CIPHERInput.from_random_voronoi(\n",
    "    materials=materials,\n",
    "    volume_fractions=[0.2, 0.8], # material volume fractions\n",
    "    num_phases=500,\n",
    "    grid_size=[128, 128, 128],\n",
    "    size=[128, 128, 128],\n",
    "    components=[\"ti\"],\n",
    "    outputs=[\"phaseid\", \"matid\", \"interfaceid\"],\n",
    "    solution_parameters={},\n",
    "    interfaces=interfaces,\n",
    ")"
   ]
  },
  {
   "cell_type": "markdown",
   "metadata": {},
   "source": [
    "##### Write the input YAML file"
   ]
  },
  {
   "cell_type": "code",
   "execution_count": null,
   "metadata": {},
   "outputs": [],
   "source": [
    "input_1_1.write_yaml(\"ex_1.1.yaml\")"
   ]
  },
  {
   "cell_type": "markdown",
   "metadata": {},
   "source": [
    "##### Visualise a slice of the phase map"
   ]
  },
  {
   "cell_type": "code",
   "execution_count": null,
   "metadata": {},
   "outputs": [],
   "source": [
    "px.imshow(input_1_1.geometry.voxel_phase[20])"
   ]
  },
  {
   "cell_type": "markdown",
   "metadata": {},
   "source": [
    "##### Visualise a slice of the phase interfaces (hiding bulk voxels)"
   ]
  },
  {
   "cell_type": "code",
   "execution_count": null,
   "metadata": {},
   "outputs": [],
   "source": [
    "px.imshow(input_1_1.geometry.neighbour_voxels[20])"
   ]
  },
  {
   "cell_type": "markdown",
   "metadata": {},
   "source": [
    "##### Visualise the interface map\n",
    "\n",
    "This is the 2D symmetric matrix that CIPHER uses to assign each possible phase-pair to a given interface"
   ]
  },
  {
   "cell_type": "code",
   "execution_count": null,
   "metadata": {},
   "outputs": [],
   "source": [
    "px.imshow(input_1_1.geometry.interface_map)"
   ]
  },
  {
   "cell_type": "markdown",
   "metadata": {},
   "source": [
    "##### Visualise a slice of the interface indices of the interface voxels"
   ]
  },
  {
   "cell_type": "code",
   "execution_count": null,
   "metadata": {},
   "outputs": [],
   "source": [
    "px.imshow(input_1_1.geometry.get_interface_idx()[20])"
   ]
  },
  {
   "cell_type": "markdown",
   "metadata": {},
   "source": [
    "##### Visualise a slice of the material assignment"
   ]
  },
  {
   "cell_type": "code",
   "execution_count": null,
   "metadata": {},
   "outputs": [],
   "source": [
    "px.imshow(input_1_1.geometry.voxel_material[20])"
   ]
  },
  {
   "cell_type": "markdown",
   "metadata": {},
   "source": [
    "#### Example 1.2: Multiple interfaces types for a given phase-pair - equal distribution"
   ]
  },
  {
   "cell_type": "code",
   "execution_count": null,
   "metadata": {},
   "outputs": [],
   "source": [
    "# Define the material properties:\n",
    "materials = {\n",
    "    \"mat1\": {\"chemicalenergy\": \"none\"},\n",
    "    \"mat2\": {\"chemicalenergy\": \"none\"},\n",
    "}\n",
    "\n",
    "# Define the interfaces:\n",
    "# \"low-angle\" and \"high-angle\" will be equally distributed for the mat1-mat1 interfaces\n",
    "interfaces=[\n",
    "    InterfaceDefinition(\n",
    "        materials=(\"mat1\", \"mat2\"),\n",
    "        properties={\"energy\": {\"e0\": 1}},\n",
    "    ),\n",
    "    InterfaceDefinition(\n",
    "        materials=(\"mat1\", \"mat1\"),\n",
    "        type_label='low-angle',\n",
    "        properties={\"energy\": {\"e0\": 1}},\n",
    "    ),\n",
    "    InterfaceDefinition(\n",
    "        materials=(\"mat1\", \"mat1\"),\n",
    "        type_label='high-angle',\n",
    "        properties={\"energy\": {\"e0\": 2}},\n",
    "    ),    \n",
    "    InterfaceDefinition(\n",
    "        materials=(\"mat2\", \"mat2\"),\n",
    "        properties={\"energy\": {\"e0\": 3}}\n",
    "    ),\n",
    "]\n",
    "\n",
    "input_1_2 = CIPHERInput.from_random_voronoi(\n",
    "    materials=materials,\n",
    "    volume_fractions=[0.2, 0.8], # material volume fractions\n",
    "    num_phases=100,\n",
    "    grid_size=[32, 32],\n",
    "    size=[32, 32],\n",
    "    components=[\"ti\"],\n",
    "    outputs=[\"phaseid\", \"matid\", \"interfaceid\"],\n",
    "    solution_parameters={},\n",
    "    interfaces=interfaces,\n",
    ")"
   ]
  },
  {
   "cell_type": "code",
   "execution_count": null,
   "metadata": {},
   "outputs": [],
   "source": [
    "input_1_2.write_yaml(\"ex_1.2.yaml\")"
   ]
  },
  {
   "cell_type": "markdown",
   "metadata": {},
   "source": [
    "#### Example 1.3: Multiple interfaces types for a given phase-pair - specified distribution"
   ]
  },
  {
   "cell_type": "code",
   "execution_count": null,
   "metadata": {},
   "outputs": [],
   "source": [
    "# Define the material properties:\n",
    "materials = {\n",
    "    \"mat1\": {\"chemicalenergy\": \"none\"},\n",
    "    \"mat2\": {\"chemicalenergy\": \"none\"},\n",
    "}\n",
    "\n",
    "# Define the interfaces:\n",
    "# \"low-angle\" and \"high-angle\" will be distributed according to `type_fraction`\n",
    "interfaces=[\n",
    "    InterfaceDefinition(\n",
    "        materials=(\"mat1\", \"mat2\"),\n",
    "        properties={\"energy\": {\"e0\": 1}},\n",
    "    ),\n",
    "    InterfaceDefinition(\n",
    "        materials=(\"mat1\", \"mat1\"),\n",
    "        type_label='low-angle',\n",
    "        type_fraction=0.7,\n",
    "        properties={\"energy\": {\"e0\": 1}},\n",
    "    ),\n",
    "    InterfaceDefinition(\n",
    "        materials=(\"mat1\", \"mat1\"),\n",
    "        type_label='high-angle',\n",
    "        type_fraction=0.3,\n",
    "        properties={\"energy\": {\"e0\": 2}},\n",
    "    ),    \n",
    "    InterfaceDefinition(\n",
    "        materials=(\"mat2\", \"mat2\"),\n",
    "        properties={\"energy\": {\"e0\": 3}}\n",
    "    ),\n",
    "]\n",
    "\n",
    "input_1_3 = CIPHERInput.from_random_voronoi(\n",
    "    materials=materials,\n",
    "    volume_fractions=[0.9, 0.1], # material volume fractions\n",
    "    num_phases=100,\n",
    "    grid_size=[32, 32],\n",
    "    size=[32, 32],\n",
    "    components=[\"ti\"],\n",
    "    outputs=[\"phaseid\", \"matid\", \"interfaceid\"],\n",
    "    solution_parameters={},\n",
    "    interfaces=interfaces,\n",
    ")\n",
    "\n",
    "input_1_3.write_yaml(\"ex_1.3.yaml\")"
   ]
  },
  {
   "cell_type": "markdown",
   "metadata": {},
   "source": [
    "### 2. Voronoi tessellation of existing seed points"
   ]
  },
  {
   "cell_type": "markdown",
   "metadata": {},
   "source": [
    "#### Example 2.1: using pre-existing seed positions for the Voronoi tessellation"
   ]
  },
  {
   "cell_type": "markdown",
   "metadata": {},
   "source": [
    "For this, we just use `CIPHERInput.from_seed_voronoi` instead of `CIPHERInput.from_random_voronoi`, and pass `seeds` instead of `num_phases`, where `seeds` should be an `(N, 2)` or `(N, 3)` array for 2D or 3D, respectively. Seeds are specified in real-space units, so must be defined within `size`."
   ]
  },
  {
   "cell_type": "code",
   "execution_count": null,
   "metadata": {},
   "outputs": [],
   "source": [
    "# Here we define some seeds using CIPHERGeometry, but may define seeds in some other way.\n",
    "\n",
    "from cipher_gen import CIPHERGeometry\n",
    "\n",
    "size = [128, 128]\n",
    "seeds = CIPHERGeometry.get_random_seeds(num_phases=50, size=size)\n",
    "\n",
    "# visualise the seeds:\n",
    "px.scatter(x=seeds[:, 0], y=seeds[:, 1])"
   ]
  },
  {
   "cell_type": "code",
   "execution_count": null,
   "metadata": {},
   "outputs": [],
   "source": [
    "# Define the material properties:\n",
    "materials = {\n",
    "    \"mat1\": {\"chemicalenergy\": \"none\"},\n",
    "    \"mat2\": {\"chemicalenergy\": \"none\"},\n",
    "}\n",
    "\n",
    "# Define the interfaces:\n",
    "interfaces = [\n",
    "    InterfaceDefinition(\n",
    "        materials=(\"mat1\", \"mat2\"),\n",
    "        properties={\"energy\": {\"e0\": 1}},\n",
    "    ),\n",
    "    InterfaceDefinition(\n",
    "        materials=(\"mat1\", \"mat1\"),\n",
    "        properties={\"energy\": {\"e0\": 1}},\n",
    "    ),\n",
    "    InterfaceDefinition(\n",
    "        materials=(\"mat2\", \"mat2\"),\n",
    "        properties={\"energy\": {\"e0\": 3}}\n",
    "    ),\n",
    "]\n",
    "\n",
    "input_2_1 = CIPHERInput.from_seed_voronoi(\n",
    "    materials=materials,\n",
    "    volume_fractions=[0.2, 0.8],\n",
    "    seeds=seeds,\n",
    "    grid_size=[128, 128],\n",
    "    size=size,\n",
    "    components=[\"ti\"],\n",
    "    outputs=[\"phaseid\", \"matid\", \"interfaceid\"],\n",
    "    solution_parameters={},\n",
    "    interfaces=interfaces,\n",
    ")\n",
    "\n",
    "input_2_1.write_yaml(\"ex_2.1.yaml\")"
   ]
  },
  {
   "cell_type": "markdown",
   "metadata": {},
   "source": [
    "### 3. Passing in an existing voxel-phase map"
   ]
  },
  {
   "cell_type": "markdown",
   "metadata": {},
   "source": [
    "We can pass in directly the voxel map if we have it, using `CIPHERInput.from_voxel_phase_map`."
   ]
  },
  {
   "cell_type": "code",
   "execution_count": null,
   "metadata": {},
   "outputs": [],
   "source": [
    "# First let's generate a simple 2D voxel phase map. This could be generated in some other way.\n",
    "from discrete_voronoi import DiscreteVoronoi\n",
    "\n",
    "size = [64, 64]\n",
    "num_phases = 10\n",
    "voronoi_obj = DiscreteVoronoi.from_random(\n",
    "    size=size,\n",
    "    grid_size=[64, 64],\n",
    "    num_regions=num_phases,\n",
    ")\n",
    "voxel_phase = voronoi_obj.region_ID\n",
    "\n",
    "# visualise the voxel_phase map:\n",
    "px.imshow(voxel_phase)"
   ]
  },
  {
   "cell_type": "markdown",
   "metadata": {},
   "source": [
    "#### Example 3.1: phase-material assignment using specified volume fractions"
   ]
  },
  {
   "cell_type": "code",
   "execution_count": null,
   "metadata": {},
   "outputs": [],
   "source": [
    "# Define the material properties:\n",
    "materials = {\n",
    "    \"mat1\": {\"chemicalenergy\": \"none\"},\n",
    "    \"mat2\": {\"chemicalenergy\": \"none\"},\n",
    "}\n",
    "\n",
    "# Define the interfaces:\n",
    "interfaces = [\n",
    "    InterfaceDefinition(\n",
    "        materials=(\"mat1\", \"mat2\"),\n",
    "        properties={\"energy\": {\"e0\": 1}},\n",
    "    ),\n",
    "    InterfaceDefinition(\n",
    "        materials=(\"mat1\", \"mat1\"),\n",
    "        properties={\"energy\": {\"e0\": 1}},\n",
    "    ),\n",
    "    InterfaceDefinition(\n",
    "        materials=(\"mat2\", \"mat2\"),\n",
    "        properties={\"energy\": {\"e0\": 3}}\n",
    "    ),\n",
    "]\n",
    "\n",
    "input_3_1 = CIPHERInput.from_voxel_phase_map(\n",
    "    voxel_phase=voxel_phase,\n",
    "    materials=materials,\n",
    "    volume_fractions=[0.2, 0.8],\n",
    "    size=size,\n",
    "    components=[\"ti\"],\n",
    "    outputs=[\"phaseid\", \"matid\", \"interfaceid\"],\n",
    "    solution_parameters={},\n",
    "    interfaces=interfaces,\n",
    ")\n",
    "\n",
    "input_3_1.write_yaml(\"ex_3.1.yaml\")"
   ]
  },
  {
   "cell_type": "code",
   "execution_count": null,
   "metadata": {},
   "outputs": [],
   "source": [
    "px.imshow(input_3_1.geometry.voxel_phase)"
   ]
  },
  {
   "cell_type": "code",
   "execution_count": null,
   "metadata": {},
   "outputs": [],
   "source": [
    "px.imshow(input_3_1.geometry.voxel_material)"
   ]
  },
  {
   "cell_type": "markdown",
   "metadata": {},
   "source": [
    "#### Example 3.2: specify phase_material assignment as well"
   ]
  },
  {
   "cell_type": "markdown",
   "metadata": {},
   "source": [
    "Instead of using `volume_fractions`, here we specify directly which materials each phase belongs to, using the `phase_material` parameter."
   ]
  },
  {
   "cell_type": "code",
   "execution_count": null,
   "metadata": {},
   "outputs": [],
   "source": [
    "# Define the material properties:\n",
    "materials = {\n",
    "    \"mat1\": {\"chemicalenergy\": \"none\"},\n",
    "    \"mat2\": {\"chemicalenergy\": \"none\"},\n",
    "}\n",
    "\n",
    "# Generate a phase material mapping. This could be done in some other way.\n",
    "rng = np.random.default_rng()\n",
    "phase_material = rng.choice(a=len(materials), size=num_phases)\n",
    "print(phase_material)"
   ]
  },
  {
   "cell_type": "code",
   "execution_count": null,
   "metadata": {},
   "outputs": [],
   "source": [
    "# Define the interfaces:\n",
    "interfaces = [\n",
    "    InterfaceDefinition(\n",
    "        materials=(\"mat1\", \"mat2\"),\n",
    "        properties={\"energy\": {\"e0\": 1}},\n",
    "    ),\n",
    "    InterfaceDefinition(\n",
    "        materials=(\"mat1\", \"mat1\"),\n",
    "        properties={\"energy\": {\"e0\": 1}},\n",
    "    ),\n",
    "    InterfaceDefinition(\n",
    "        materials=(\"mat2\", \"mat2\"),\n",
    "        properties={\"energy\": {\"e0\": 3}}\n",
    "    ),\n",
    "]\n",
    "\n",
    "input_3_2 = CIPHERInput.from_voxel_phase_map(\n",
    "    voxel_phase=voxel_phase,\n",
    "    materials=materials,\n",
    "    phase_material=phase_material,\n",
    "    size=size,\n",
    "    components=[\"ti\"],\n",
    "    outputs=[\"phaseid\", \"matid\", \"interfaceid\"],\n",
    "    solution_parameters={},\n",
    "    interfaces=interfaces,\n",
    ")\n",
    "\n",
    "input_3_2.write_yaml(\"ex_3.2.yaml\")"
   ]
  },
  {
   "cell_type": "code",
   "execution_count": null,
   "metadata": {},
   "outputs": [],
   "source": []
  },
  {
   "cell_type": "code",
   "execution_count": null,
   "metadata": {},
   "outputs": [],
   "source": [
    "px.imshow(input_3_2.geometry.voxel_phase)"
   ]
  },
  {
   "cell_type": "code",
   "execution_count": null,
   "metadata": {},
   "outputs": [],
   "source": []
  }
 ],
 "metadata": {
  "interpreter": {
   "hash": "7c07dc62041a117a8733fa62182a1d684b0bad148f520b8b987e68f55a0fe72a"
  },
  "kernelspec": {
   "display_name": "Python 3.7.4 ('.venv': venv)",
   "language": "python",
   "name": "python3"
  },
  "language_info": {
   "codemirror_mode": {
    "name": "ipython",
    "version": 3
   },
   "file_extension": ".py",
   "mimetype": "text/x-python",
   "name": "python",
   "nbconvert_exporter": "python",
   "pygments_lexer": "ipython3",
   "version": "3.7.4"
  },
  "orig_nbformat": 4
 },
 "nbformat": 4,
 "nbformat_minor": 2
}
