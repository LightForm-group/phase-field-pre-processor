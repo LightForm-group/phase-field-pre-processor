{
 "cells": [
  {
   "cell_type": "code",
   "execution_count": null,
   "metadata": {},
   "outputs": [],
   "source": [
    "%load_ext autoreload\n",
    "%autoreload 2"
   ]
  },
  {
   "cell_type": "markdown",
   "metadata": {},
   "source": [
    "### Generating CIPHER input files"
   ]
  },
  {
   "cell_type": "markdown",
   "metadata": {},
   "source": [
    "This notebook has some usage examples for generating a CIPHER input file."
   ]
  },
  {
   "cell_type": "code",
   "execution_count": null,
   "metadata": {},
   "outputs": [],
   "source": [
    "from cipher_gen import generate_CIPHER_input, InterfaceDefinition\n",
    "import plotly.express as px"
   ]
  },
  {
   "cell_type": "markdown",
   "metadata": {},
   "source": [
    "#### Random Voronoi tessellation of phases\n",
    "\n",
    "These example generate the geometry using a random Voronoi tessellation."
   ]
  },
  {
   "cell_type": "markdown",
   "metadata": {},
   "source": [
    "#### Example 1.1: One interface per phase pair"
   ]
  },
  {
   "cell_type": "code",
   "execution_count": null,
   "metadata": {},
   "outputs": [],
   "source": [
    "# Define the material properties:\n",
    "materials = {\n",
    "    \"mat1\": {\"chemicalenergy\": \"none\"},\n",
    "    \"mat2\": {\"chemicalenergy\": \"none\"},\n",
    "}\n",
    "\n",
    "# Define the interfaces:\n",
    "interfaces=[\n",
    "    InterfaceDefinition(\n",
    "        materials=(\"mat1\", \"mat2\"),\n",
    "        properties={\"energy\": {\"e0\": 1}},\n",
    "    ),\n",
    "    InterfaceDefinition(\n",
    "        materials=(\"mat1\", \"mat1\"),\n",
    "        properties={\"energy\": {\"e0\": 1}},\n",
    "    ),\n",
    "    InterfaceDefinition(\n",
    "        materials=(\"mat2\", \"mat2\"),\n",
    "        properties={\"energy\": {\"e0\": 3}}\n",
    "    ),\n",
    "]\n",
    "\n",
    "cipher_input = generate_CIPHER_input(\n",
    "    materials=materials,\n",
    "    volume_fractions=[0.2, 0.8], # material volume fractions\n",
    "    num_phases=500,\n",
    "    grid_size=[64, 64, 64],\n",
    "    size=[64, 64, 64],\n",
    "    components=[\"ti\"],\n",
    "    outputs=[\"phaseid\", \"matid\", \"interfaceid\"],\n",
    "    solution_parameters={},\n",
    "    interfaces=interfaces,\n",
    "    use_loop=False\n",
    ")"
   ]
  },
  {
   "cell_type": "markdown",
   "metadata": {},
   "source": [
    "##### Write the input YAML file"
   ]
  },
  {
   "cell_type": "code",
   "execution_count": null,
   "metadata": {},
   "outputs": [],
   "source": [
    "cipher_input.write_yaml(\"ex_1.1.yaml\")"
   ]
  },
  {
   "cell_type": "markdown",
   "metadata": {},
   "source": [
    "##### Visualise a slice of the phase map"
   ]
  },
  {
   "cell_type": "code",
   "execution_count": null,
   "metadata": {},
   "outputs": [],
   "source": [
    "px.imshow(cipher_input.geometry.voxel_phase[0]) # (could also use matplotlib)"
   ]
  },
  {
   "cell_type": "markdown",
   "metadata": {},
   "source": [
    "##### Visualise the interface map"
   ]
  },
  {
   "cell_type": "code",
   "execution_count": null,
   "metadata": {},
   "outputs": [],
   "source": [
    "px.imshow(cipher_input.geometry.interface_map)"
   ]
  },
  {
   "cell_type": "markdown",
   "metadata": {},
   "source": [
    "### Example 1.2: Multiple interfaces types for a given phase-pair - equal distribution"
   ]
  },
  {
   "cell_type": "code",
   "execution_count": null,
   "metadata": {},
   "outputs": [],
   "source": [
    "# Define the material properties:\n",
    "materials = {\n",
    "    \"mat1\": {\"chemicalenergy\": \"none\"},\n",
    "    \"mat2\": {\"chemicalenergy\": \"none\"},\n",
    "}\n",
    "\n",
    "# Define the interfaces:\n",
    "# \"low-angle\" and \"high-angle\" will be equally distributed for the mat1-mat1 interfaces\n",
    "interfaces=[\n",
    "    InterfaceDefinition(\n",
    "        materials=(\"mat1\", \"mat2\"),\n",
    "        properties={\"energy\": {\"e0\": 1}},\n",
    "    ),\n",
    "    InterfaceDefinition(\n",
    "        materials=(\"mat1\", \"mat1\"),\n",
    "        type_label='low-angle',\n",
    "        properties={\"energy\": {\"e0\": 1}},\n",
    "    ),\n",
    "    InterfaceDefinition(\n",
    "        materials=(\"mat1\", \"mat1\"),\n",
    "        type_label='high-angle',\n",
    "        properties={\"energy\": {\"e0\": 2}},\n",
    "    ),    \n",
    "    InterfaceDefinition(\n",
    "        materials=(\"mat2\", \"mat2\"),\n",
    "        properties={\"energy\": {\"e0\": 3}}\n",
    "    ),\n",
    "]\n",
    "\n",
    "cipher_input = generate_CIPHER_input(\n",
    "    materials=materials,\n",
    "    volume_fractions=[0.2, 0.8], # material volume fractions\n",
    "    num_phases=100,\n",
    "    grid_size=[32, 32],\n",
    "    size=[32, 32],\n",
    "    components=[\"ti\"],\n",
    "    outputs=[\"phaseid\", \"matid\", \"interfaceid\"],\n",
    "    solution_parameters={},\n",
    "    interfaces=interfaces,\n",
    ")\n",
    "\n",
    "cipher_input.write_yaml(\"ex_1.2.yaml\")"
   ]
  },
  {
   "cell_type": "markdown",
   "metadata": {},
   "source": [
    "### Example 1.3: Multiple interfaces types for a given phase-pair - specified distribution"
   ]
  },
  {
   "cell_type": "code",
   "execution_count": null,
   "metadata": {},
   "outputs": [],
   "source": [
    "# Define the material properties:\n",
    "materials = {\n",
    "    \"mat1\": {\"chemicalenergy\": \"none\"},\n",
    "    \"mat2\": {\"chemicalenergy\": \"none\"},\n",
    "}\n",
    "\n",
    "# Define the interfaces:\n",
    "# \"low-angle\" and \"high-angle\" will be distributed according to `type_fraction`\n",
    "interfaces=[\n",
    "    InterfaceDefinition(\n",
    "        materials=(\"mat1\", \"mat2\"),\n",
    "        properties={\"energy\": {\"e0\": 1}},\n",
    "    ),\n",
    "    InterfaceDefinition(\n",
    "        materials=(\"mat1\", \"mat1\"),\n",
    "        type_label='low-angle',\n",
    "        type_fraction=0.7,\n",
    "        properties={\"energy\": {\"e0\": 1}},\n",
    "    ),\n",
    "    InterfaceDefinition(\n",
    "        materials=(\"mat1\", \"mat1\"),\n",
    "        type_label='high-angle',\n",
    "        type_fraction=0.3,\n",
    "        properties={\"energy\": {\"e0\": 2}},\n",
    "    ),    \n",
    "    InterfaceDefinition(\n",
    "        materials=(\"mat2\", \"mat2\"),\n",
    "        properties={\"energy\": {\"e0\": 3}}\n",
    "    ),\n",
    "]\n",
    "\n",
    "cipher_input = generate_CIPHER_input(\n",
    "    materials=materials,\n",
    "    volume_fractions=[0.9, 0.1], # material volume fractions\n",
    "    num_phases=100,\n",
    "    grid_size=[32, 32],\n",
    "    size=[32, 32],\n",
    "    components=[\"ti\"],\n",
    "    outputs=[\"phaseid\", \"matid\", \"interfaceid\"],\n",
    "    solution_parameters={},\n",
    "    interfaces=interfaces,\n",
    ")\n",
    "\n",
    "cipher_input.write_yaml(\"ex_1.3.yaml\")"
   ]
  }
 ],
 "metadata": {
  "interpreter": {
   "hash": "7c07dc62041a117a8733fa62182a1d684b0bad148f520b8b987e68f55a0fe72a"
  },
  "kernelspec": {
   "display_name": "Python 3.7.4 ('.venv': venv)",
   "language": "python",
   "name": "python3"
  },
  "language_info": {
   "codemirror_mode": {
    "name": "ipython",
    "version": 3
   },
   "file_extension": ".py",
   "mimetype": "text/x-python",
   "name": "python",
   "nbconvert_exporter": "python",
   "pygments_lexer": "ipython3",
   "version": "3.7.4"
  },
  "orig_nbformat": 4
 },
 "nbformat": 4,
 "nbformat_minor": 2
}
